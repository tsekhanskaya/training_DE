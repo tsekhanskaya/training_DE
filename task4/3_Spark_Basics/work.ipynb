{
 "cells": [
  {
   "cell_type": "code",
   "execution_count": 1,
   "id": "22802e06-05cd-4735-9336-8b219fdad86e",
   "metadata": {
    "tags": []
   },
   "outputs": [],
   "source": [
    "import pyspark.sql.types as T\n",
    "from pyspark.sql.functions import when, col, lit, regexp_extract\n",
    "from pyspark.sql import SparkSession"
   ]
  },
  {
   "cell_type": "code",
   "execution_count": 2,
   "id": "54269279-91e1-46e5-b71b-cf11cc9d4a60",
   "metadata": {
    "tags": []
   },
   "outputs": [],
   "source": [
    "people_schema = T.StructType([ \\\n",
    "    T.StructField(\"rank\", T.IntegerType(), True), \\\n",
    "    T.StructField(\"name\", T.StringType(), True), \\\n",
    "    T.StructField(\"net_worth\", T.StringType(), True), \\\n",
    "    T.StructField(\"bday\", T.StringType(), True), \\\n",
    "    T.StructField(\"age\", T.IntegerType(), True), \\\n",
    "    T.StructField(\"nationality\", T.StringType(), True)\n",
    "])"
   ]
  },
  {
   "cell_type": "code",
   "execution_count": 5,
   "id": "e540e070-9e95-46cb-954d-196004c4cb2f",
   "metadata": {
    "tags": []
   },
   "outputs": [],
   "source": [
    "country_schema = T.StructType([ \\\n",
    "    T.StructField(\"country\", T.StringType(), True), \\\n",
    "    T.StructField(\"num_billionares\", T.StringType(), True), \\\n",
    "    T.StructField(\"billionaire_per_million\", T.StringType(), True)\n",
    "])"
   ]
  },
  {
   "cell_type": "code",
   "execution_count": 6,
   "id": "24ee6728-97a9-450f-bc5a-1cb6d718dab8",
   "metadata": {
    "tags": []
   },
   "outputs": [],
   "source": [
    "spark = SparkSession\\\n",
    "            .builder\\\n",
    "            .appName('spark_basic')\\\n",
    "            .getOrCreate()\n",
    "            \n"
   ]
  },
  {
   "cell_type": "code",
   "execution_count": 16,
   "id": "0f1fe6dd-9a19-40d5-b319-1ecc6b7697f6",
   "metadata": {
    "tags": []
   },
   "outputs": [
    {
     "name": "stdout",
     "output_type": "stream",
     "text": [
      "+----+----------------------------------+-------------+---------+----+------------------------+\n",
      "|rank|name                              |net_worth    |bday     |age |nationality             |\n",
      "+----+----------------------------------+-------------+---------+----+------------------------+\n",
      "|1   |Elon Musk                         |$240 Billion |28-Jun-71|51  |South Africa            |\n",
      "|2   |Jeff Bezos                        |$150 Billion |12-Jan-64|58  |United States of America|\n",
      "|3   |Gautam Adani                      |$138 Billion |24-Jun-62|60  |India                   |\n",
      "|4   |Bernard Arnault                   |$135 Billion |5-Mar-49 |73  |France                  |\n",
      "|5   |Bill Gates                        |$118 Billion |28-Oct-55|66  |United States of America|\n",
      "|6   |Warren Buffett                    |$101 Billion |30-Aug-30|92  |United States of America|\n",
      "|7   |Larry Page                        |$100 Billion |26-Mar-73|49  |United States of America|\n",
      "|8   |Sergey Brin                       |$96 Billion  |21-Aug-73|48  |United States of America|\n",
      "|9   |Steve Ballmer                     |$94 Billion  |24-Mar-56|66  |United States of America|\n",
      "|10  |Larry Ellison                     |$93 Billion  |17-Aug-44|78  |United States of America|\n",
      "|11  |Alain & Gerard Wertheimer         |$90 Billion  |null     |null|France                  |\n",
      "|12  |Mukesh Ambani                     |$89 Billion  |19-Apr-57|65  |India                   |\n",
      "|13  |Carlos Slim Helu                  |$72 Billion  |28-Jan-40|82  |Mexico                  |\n",
      "|14  |Vladimir Putin                    |$70 Billion  |7-Oct-52 |69  |Russia                  |\n",
      "|15  |Françoise Bettencourt-Meyers      |$70 Billion  |10-Jul-53|69  |France                  |\n",
      "|16  |Amancio Ortega Gaona              |$70 Billion  |28-Mar-36|86  |Spain                   |\n",
      "|17  |Michael Bloomberg                 |$70 Billion  |14-Feb-42|80  |United States of America|\n",
      "|18  |Mark Zuckerberg                   |$70 Billion  |14-May-84|38  |United States of America|\n",
      "|19  |Rob Walton                        |$68 Billion  |28-Oct-44|77  |United States of America|\n",
      "|20  |Jim Walton                        |$68 Billion  |7-Jun-48 |74  |United States of America|\n",
      "|21  |Zhong Shanshan                    |$68 Billion  |null     |null|China                   |\n",
      "|22  |Alice Walton                      |$66 Billion  |7-Oct-49 |72  |United States of America|\n",
      "|23  |Julia Flesher Koch                |$62 Billion  |12-Apr-62|60  |United States of America|\n",
      "|24  |Charles Koch                      |$60 Billion  |1-Nov-35 |86  |United States of America|\n",
      "|25  |Michael Dell                      |$52 Billion  |23-Feb-65|57  |United States of America|\n",
      "|26  |Francois Pinault                  |$50 Billion  |21-Aug-36|86  |France                  |\n",
      "|27  |David Thomson                     |$50 Billion  |12-Jun-57|65  |Canada                  |\n",
      "|28  |Ma Huateng                        |$48 Billion  |29-Oct-71|50  |China                   |\n",
      "|29  |Alain Wertheimer                  |$45 Billion  |28-Sep-48|73  |France                  |\n",
      "|30  |Gerard Wertheimer                 |$45 Billion  |17-Apr-51|71  |French                  |\n",
      "|31  |Zhang Yiming                      |$44 Billion  |1-Apr-83 |39  |China                   |\n",
      "|32  |Tadashi Yanai                     |$42 Billion  |7-Feb-49 |73  |Japan                   |\n",
      "|33  |John Mars                         |$42 Billion  |15-Oct-35|86  |United States of America|\n",
      "|34  |Jacqueline Mars                   |$42 Billion  |10-Oct-39|82  |United States of America|\n",
      "|35  |Phil Knight                       |$40 Billion  |24-Feb-38|84  |United States of America|\n",
      "|36  |Vladimir Potanin                  |$35 Billion  |3-Jan-61 |61  |Russia                  |\n",
      "|37  |Stephen Schwarzman                |$35 Billion  |14-Feb-47|75  |United States of America|\n",
      "|38  |Jack Ma                           |$34 Billion  |15-Oct-64|57  |China                   |\n",
      "|39  |Miriam Adelson                    |$34 Billion  |10-Oct-45|76  |American, Israeli       |\n",
      "|40  |Colin Huang                       |$33 Billion  |1-Jan-80 |42  |China                   |\n",
      "|41  |Lee Shau Kee                      |$33 Billion  |29-Jan-28|94  |China                   |\n",
      "|42  |Len Blavatnik                     |$32 Billion  |14-Jun-57|65  |United Kingdom          |\n",
      "|43  |Li Ka-shing                       |$31 Billion  |29-Jul-28|94  |Canada                  |\n",
      "|44  |Gina Rinehart                     |$31 Billion  |9-Feb-54 |68  |Australia               |\n",
      "|45  |Sheikh Mansour bin Zayed Al Nahyan|$30 Billion  |20-Nov-70|51  |Emirati                 |\n",
      "|46  |Masayoshi Son                     |$30 Billion  |11-Aug-57|65  |Japan                   |\n",
      "|47  |Sultan of Brunei                  |$30 Billion  |15-Jul-46|76  |Brunei                  |\n",
      "|48  |Maha Vajiralongkorn               |$30 Billion  |28-Jul-52|70  |Thailand                |\n",
      "|49  |Giovanni Ferrero                  |$28 Billion  |21-Sep-64|57  |Italy                   |\n",
      "|50  |Ken Griffin                       |$28 Billion  |15-Oct-68|53  |United States of America|\n",
      "|51  |Abigail Johnson                   |$28 Billion  |19-Dec-61|60  |United States of America|\n",
      "|52  |He Xiangjian                      |$27 Billion  |5-Oct-42 |79  |China                   |\n",
      "|53  |Dieter Schwarz                    |$27 Billion  |24-Sep-39|82  |Germany                 |\n",
      "|54  |William Ding                      |$26 Billion  |1-Oct-71 |50  |China                   |\n",
      "|55  |Shiv Nadar                        |$25.9 Billion|14-Jul-45|77  |India                   |\n",
      "|56  |Stefan Persson                    |$25 Billion  |4-Oct-47 |74  |Sweden                  |\n",
      "|57  |Joseph Safra                      |$25 Billion  |1-Sep-38 |null|Brazil                  |\n",
      "|58  |Eric Yuan                         |$25 Billion  |20-Feb-70|52  |China                   |\n",
      "|59  |Carl Icahn                        |$24 Billion  |16-Feb-36|86  |United States of America|\n",
      "|60  |Takemitsu Takizaki                |$24 Billion  |10-Jun-45|77  |Japan                   |\n",
      "|61  |Pierre Omidyar                    |$24 Billion  |21-Jun-67|55  |United States of America|\n",
      "|62  |Forrest Mars Jr                   |$23.4 Billion|16-Aug-31|91  |United States of America|\n",
      "|63  |Jorge Paulo Lemann                |$23 Billion  |26-Aug-39|83  |Brazil                  |\n",
      "|64  |Eric Schmidt                      |$23 Billion  |27-Apr-55|67  |United States of America|\n",
      "|65  |Satoshi Nakamoto                  |$22 Billion  |5-Apr-75 |73  |Japan                   |\n",
      "|66  |Qin Yinglin                       |$22 Billion  |null     |57  |China                   |\n",
      "|67  |James Simons                      |$22 Billion  |25-Apr-38|84  |United States of America|\n",
      "|68  |Wang Wei                          |$22 Billion  |null     |51  |China                   |\n",
      "|69  |James Dyson                       |$22 Billion  |2-May-47 |75  |United Kingdom          |\n",
      "|70  |Aliko Dangote                     |$21 Billion  |10-Apr-57|65  |Nigeria                 |\n",
      "|71  |Leonard Lauder                    |$21 Billion  |19-Mar-33|89  |United States of America|\n",
      "|72  |Andrey Melnichenko                |$21 Billion  |8-Mar-72 |50  |Russia                  |\n",
      "|73  |Sir Evelyn De Rothschild          |$20 Billion  |29-Aug-31|90  |England                 |\n",
      "|74  |Salman bin Abdulaziz Al Saud      |$20 Billion  |31-Dec-35|86  |Saudi Arabia            |\n",
      "|75  |Alexey Mordashov                  |$20 Billion  |26-Sep-65|56  |Russia                  |\n",
      "|76  |John Menard                       |$20 Billion  |22-Jan-40|82  |United States of America|\n",
      "|77  |Elaine Marshall                   |$20 Billion  |18-Nov-45|76  |United States of America|\n",
      "|78  |Rupert Murdoch                    |$20 Billion  |11-Mar-31|91  |Australia               |\n",
      "|79  |Dan Gilbert                       |$20 Billion  |17-Jan-62|60  |United States of America|\n",
      "|80  |Leonid Mikhelson                  |$20 Billion  |11-Aug-55|67  |Russia                  |\n",
      "|81  |Pallonji Mistry                   |$19 Billion  |1-Jun-29 |null|India                   |\n",
      "|82  |Susanne Klatten                   |$19 Billion  |28-Apr-62|60  |Germany                 |\n",
      "|83  |Eduardo Saverin                   |$19 Billion  |19-Mar-82|40  |Brazil                  |\n",
      "|84  |Vladimir Lisin                    |$19 Billion  |7-May-56 |66  |Russia                  |\n",
      "|85  |James Ratcliffe                   |$19 Billion  |18-Oct-52|69  |United Kingdom          |\n",
      "|86  |Laurene Powell Jobs               |$19 Billion  |6-Nov-63 |58  |United States of America|\n",
      "|87  |Lakshmi Mittal                    |$18 Billion  |2-Sep-50 |71  |India                   |\n",
      "|88  |David & Simon Reuben              |$18 Billion  |null     |null|United Kingdom          |\n",
      "|89  |Sheikh Khalifa Bin Zayed Al Nahyan|$18 Billion  |25-Jan-48|74  |United Arab Emirates    |\n",
      "|90  |Alisher Usmanov                   |$18 Billion  |9-Sep-53 |68  |Russia                  |\n",
      "|91  |Lukas Walton                      |$18 Billion  |null     |36  |United States of America|\n",
      "|92  |Serge Dassault                    |$17.3 Billion|4-Apr-25 |97  |France                  |\n",
      "|93  |Pavel Durov                       |$17 Billion  |10-Oct-84|37  |Russia                  |\n",
      "|94  |Donald Bren                       |$17 Billion  |11-May-32|90  |United States of America|\n",
      "|95  |Thomas Peterffy                   |$17 Billion  |30-Sep-44|77  |United States of America|\n",
      "|96  |Prince Al Waleed Bin Talal Alsaud |$17 Billion  |7-Mar-55 |67  |Saudi Arabia            |\n",
      "|97  |Harold Hamm                       |$17 Billion  |11-Dec-45|76  |United States of America|\n",
      "|98  |Viktor Vekselberg                 |$17 Billion  |14-Apr-57|65  |Russia                  |\n",
      "|99  |Steven Cohen                      |$16 Billion  |11-Jun-56|66  |United States of America|\n",
      "|100 |Stefan Quandt                     |$16 Billion  |9-May-66 |56  |Germany                 |\n",
      "+----+----------------------------------+-------------+---------+----+------------------------+\n",
      "\n"
     ]
    }
   ],
   "source": [
    "df_people = spark.read.option('header', 'true').schema(people_schema).csv('data/top_100_richest.csv')\n",
    "df_people.show(df_people.count(), truncate=False)"
   ]
  },
  {
   "cell_type": "code",
   "execution_count": 17,
   "id": "4e236b48-d304-4fc3-b687-d8389b12e5f3",
   "metadata": {
    "tags": []
   },
   "outputs": [
    {
     "name": "stdout",
     "output_type": "stream",
     "text": [
      "+--------------------+---------------+-----------------------+\n",
      "|country             |num_billionares|billionaire_per_million|\n",
      "+--------------------+---------------+-----------------------+\n",
      "|\"World,\"\"2          |668\"\"          |0.35\"                  |\n",
      "|United States       |735            |1.853                  |\n",
      "|Mainland China      |539            |0.276                  |\n",
      "|India               |166            |0.101                  |\n",
      "|Germany             |134            |1.553                  |\n",
      "|Russia              |83             |0.677                  |\n",
      "|Hong Kong           |67             |8.830                  |\n",
      "|Canada              |64             |1.147                  |\n",
      "|Brazil              |62             |0.211                  |\n",
      "|Italy               |52             |0.607                  |\n",
      "|Taiwan              |51             |1.529                  |\n",
      "|United Kingdom      |49             |0.674                  |\n",
      "|Australia           |46             |1.203                  |\n",
      "|Sweden              |45             |2.987                  |\n",
      "|France              |43             |0.579                  |\n",
      "|Switzerland         |41             |4.044                  |\n",
      "|South Korea         |41             |0.540                  |\n",
      "|Japan               |40             |0.207                  |\n",
      "|Indonesia           |30             |0.056                  |\n",
      "|Israel              |30             |3.158                  |\n",
      "|Thailand            |28             |0.300                  |\n",
      "|Spain               |27             |0.507                  |\n",
      "|Singapore           |26             |4.573                  |\n",
      "|Turkey              |24             |0.275                  |\n",
      "|Philippines         |20             |0.136                  |\n",
      "|Malaysia            |17             |0.366                  |\n",
      "|Mexico              |15             |0.095                  |\n",
      "|Norway              |13             |2.226                  |\n",
      "|Austria             |11             |1.007                  |\n",
      "|Netherlands         |11             |0.626                  |\n",
      "|Czech Republic      |9              |0.747                  |\n",
      "|Ireland             |9              |1.808                  |\n",
      "|Denmark             |9              |1.370                  |\n",
      "|Chile               |7              |0.356                  |\n",
      "|Egypt               |6              |0.059                  |\n",
      "|Finland             |6              |1.090                  |\n",
      "|Ukraine             |6              |0.144                  |\n",
      "|Lebanon             |6              |0.886                  |\n",
      "|Poland              |6              |0.157                  |\n",
      "|Portugal            |5              |0.497                  |\n",
      "|Kazakhstan          |4              |0.212                  |\n",
      "|South Africa        |4              |0.067                  |\n",
      "|Argentina           |4              |0.087                  |\n",
      "|United Arab Emirates|4              |0.427                  |\n",
      "|Vietnam             |4              |0.041                  |\n",
      "|Colombia            |3              |0.059                  |\n",
      "|Cyprus              |3              |3.378                  |\n",
      "|Greece              |3              |0.280                  |\n",
      "|Monaco              |3              |78.740                 |\n",
      "|Nigeria             |3              |0.014                  |\n",
      "|Bulgaria            |2              |null                   |\n",
      "|Peru                |2              |0.061                  |\n",
      "|New Zealand         |2              |0.391                  |\n",
      "|St. Kitts & Nevis   |2              |37.037                 |\n",
      "|Romania             |2              |0.104                  |\n",
      "|Slovakia            |2              |0.366                  |\n",
      "|Georgia             |2              |0.537                  |\n",
      "|Uruguay             |2              |null                   |\n",
      "|Barbados            |1              |null                   |\n",
      "|Estonia             |1              |null                   |\n",
      "|Nepal               |1              |0.033                  |\n",
      "|Morocco             |1              |0.028                  |\n",
      "|Oman                |1              |0.223                  |\n",
      "|Belgium             |1              |0.087                  |\n",
      "|Venezuela           |1              |0.035                  |\n",
      "|Algeria             |1              |0.022                  |\n",
      "|Angola              |1              |0.031                  |\n",
      "|Eswatini (Swaziland)|1              |0.915                  |\n",
      "|Guernsey            |1              |15.834                 |\n",
      "|Hungary             |1              |0.103                  |\n",
      "|Iceland             |1              |2.713                  |\n",
      "|Liechtenstein       |1              |25.710                 |\n",
      "|China               |1              |1.464                  |\n",
      "|Kuwait              |1              |0.224                  |\n",
      "|Tanzania            |1              |0.017                  |\n",
      "|Zimbabwe            |1              |0.063                  |\n",
      "|Qatar               |1              |0.368                  |\n",
      "+--------------------+---------------+-----------------------+\n",
      "\n"
     ]
    }
   ],
   "source": [
    "df_country = spark.read.option('header', 'true').schema(country_schema).csv('data/wiki_number_of_billionaires.csv')\n",
    "df_country.show(df_country.count(), truncate=False)"
   ]
  },
  {
   "cell_type": "code",
   "execution_count": 15,
   "id": "6f89a304-ac6b-4d67-aadb-de0aa77f223b",
   "metadata": {
    "tags": []
   },
   "outputs": [
    {
     "name": "stdout",
     "output_type": "stream",
     "text": [
      "+----+----------------------------+---------+---------+----+------------------------+\n",
      "|rank|name                        |net_worth|bday     |age |nationality             |\n",
      "+----+----------------------------+---------+---------+----+------------------------+\n",
      "|1   |Elon Musk                   |240      |28-Jun-71|51  |South Africa            |\n",
      "|2   |Jeff Bezos                  |150      |12-Jan-64|58  |United States of America|\n",
      "|3   |Gautam Adani                |138      |24-Jun-62|60  |India                   |\n",
      "|4   |Bernard Arnault             |135      |5-Mar-49 |73  |France                  |\n",
      "|5   |Bill Gates                  |118      |28-Oct-55|66  |United States of America|\n",
      "|6   |Warren Buffett              |101      |30-Aug-30|92  |United States of America|\n",
      "|7   |Larry Page                  |100      |26-Mar-73|49  |United States of America|\n",
      "|8   |Sergey Brin                 |96       |21-Aug-73|48  |United States of America|\n",
      "|9   |Steve Ballmer               |94       |24-Mar-56|66  |United States of America|\n",
      "|10  |Larry Ellison               |93       |17-Aug-44|78  |United States of America|\n",
      "|11  |Alain & Gerard Wertheimer   |90       |null     |null|France                  |\n",
      "|12  |Mukesh Ambani               |89       |19-Apr-57|65  |India                   |\n",
      "|13  |Carlos Slim Helu            |72       |28-Jan-40|82  |Mexico                  |\n",
      "|14  |Vladimir Putin              |70       |7-Oct-52 |69  |Russia                  |\n",
      "|15  |Françoise Bettencourt-Meyers|70       |10-Jul-53|69  |France                  |\n",
      "|16  |Amancio Ortega Gaona        |70       |28-Mar-36|86  |Spain                   |\n",
      "|17  |Michael Bloomberg           |70       |14-Feb-42|80  |United States of America|\n",
      "|18  |Mark Zuckerberg             |70       |14-May-84|38  |United States of America|\n",
      "|19  |Rob Walton                  |68       |28-Oct-44|77  |United States of America|\n",
      "|20  |Jim Walton                  |68       |7-Jun-48 |74  |United States of America|\n",
      "|21  |Zhong Shanshan              |68       |null     |null|China                   |\n",
      "|22  |Alice Walton                |66       |7-Oct-49 |72  |United States of America|\n",
      "|23  |Julia Flesher Koch          |62       |12-Apr-62|60  |United States of America|\n",
      "+----+----------------------------+---------+---------+----+------------------------+\n",
      "\n"
     ]
    }
   ],
   "source": [
    "df_people_filtered = df_people.withColumn('net_worth', regexp_extract(col('net_worth'), '^\\$(\\\\d+).*$', 1).cast('int')).filter(col('net_worth') > 60)\n",
    "df_people_filtered.show(df_people_filtered.count(), truncate=False)"
   ]
  },
  {
   "cell_type": "code",
   "execution_count": 20,
   "id": "b65aa769-abe7-4a16-b59c-04ed9b34f05b",
   "metadata": {
    "tags": []
   },
   "outputs": [
    {
     "name": "stdout",
     "output_type": "stream",
     "text": [
      "+----+----------------------------+---------+---------+----+-------------+\n",
      "|rank|name                        |net_worth|bday     |age |nationality  |\n",
      "+----+----------------------------+---------+---------+----+-------------+\n",
      "|1   |Elon Musk                   |240      |28-Jun-71|51  |South Africa |\n",
      "|2   |Jeff Bezos                  |150      |12-Jan-64|58  |United States|\n",
      "|3   |Gautam Adani                |138      |24-Jun-62|60  |India        |\n",
      "|4   |Bernard Arnault             |135      |5-Mar-49 |73  |France       |\n",
      "|5   |Bill Gates                  |118      |28-Oct-55|66  |United States|\n",
      "|6   |Warren Buffett              |101      |30-Aug-30|92  |United States|\n",
      "|7   |Larry Page                  |100      |26-Mar-73|49  |United States|\n",
      "|8   |Sergey Brin                 |96       |21-Aug-73|48  |United States|\n",
      "|9   |Steve Ballmer               |94       |24-Mar-56|66  |United States|\n",
      "|10  |Larry Ellison               |93       |17-Aug-44|78  |United States|\n",
      "|11  |Alain & Gerard Wertheimer   |90       |null     |null|France       |\n",
      "|12  |Mukesh Ambani               |89       |19-Apr-57|65  |India        |\n",
      "|13  |Carlos Slim Helu            |72       |28-Jan-40|82  |Mexico       |\n",
      "|14  |Vladimir Putin              |70       |7-Oct-52 |69  |Russia       |\n",
      "|15  |Françoise Bettencourt-Meyers|70       |10-Jul-53|69  |France       |\n",
      "|16  |Amancio Ortega Gaona        |70       |28-Mar-36|86  |Spain        |\n",
      "|17  |Michael Bloomberg           |70       |14-Feb-42|80  |United States|\n",
      "|18  |Mark Zuckerberg             |70       |14-May-84|38  |United States|\n",
      "|19  |Rob Walton                  |68       |28-Oct-44|77  |United States|\n",
      "|20  |Jim Walton                  |68       |7-Jun-48 |74  |United States|\n",
      "|21  |Zhong Shanshan              |68       |null     |null|China        |\n",
      "|22  |Alice Walton                |66       |7-Oct-49 |72  |United States|\n",
      "|23  |Julia Flesher Koch          |62       |12-Apr-62|60  |United States|\n",
      "+----+----------------------------+---------+---------+----+-------------+\n",
      "\n"
     ]
    }
   ],
   "source": [
    "df_people_new = df_people_filtered.withColumn('nationality', when(col('nationality') == 'United States of America',  'United States').\\\n",
    "                                                                            when(col('nationality') == 'French',  'France').\\\n",
    "                                                                            when(col('nationality') == 'England', 'United Kingdom').\\\n",
    "                                                                            otherwise(col('nationality')))\n",
    "df_people_new.show(df_people_new.count(), truncate=False)"
   ]
  },
  {
   "cell_type": "code",
   "execution_count": 21,
   "id": "4eaab086-1457-46b2-b7c6-9d37b9cdaa6f",
   "metadata": {
    "tags": []
   },
   "outputs": [
    {
     "name": "stdout",
     "output_type": "stream",
     "text": [
      "+----+----------------------------+---------+---------+----+-------------+-------------+---------------+-----------------------+\n",
      "|rank|name                        |net_worth|bday     |age |nationality  |country      |num_billionares|billionaire_per_million|\n",
      "+----+----------------------------+---------+---------+----+-------------+-------------+---------------+-----------------------+\n",
      "|1   |Elon Musk                   |240      |28-Jun-71|51  |South Africa |South Africa |4              |0.067                  |\n",
      "|2   |Jeff Bezos                  |150      |12-Jan-64|58  |United States|United States|735            |1.853                  |\n",
      "|3   |Gautam Adani                |138      |24-Jun-62|60  |India        |India        |166            |0.101                  |\n",
      "|4   |Bernard Arnault             |135      |5-Mar-49 |73  |France       |France       |43             |0.579                  |\n",
      "|5   |Bill Gates                  |118      |28-Oct-55|66  |United States|United States|735            |1.853                  |\n",
      "|6   |Warren Buffett              |101      |30-Aug-30|92  |United States|United States|735            |1.853                  |\n",
      "|7   |Larry Page                  |100      |26-Mar-73|49  |United States|United States|735            |1.853                  |\n",
      "|8   |Sergey Brin                 |96       |21-Aug-73|48  |United States|United States|735            |1.853                  |\n",
      "|9   |Steve Ballmer               |94       |24-Mar-56|66  |United States|United States|735            |1.853                  |\n",
      "|10  |Larry Ellison               |93       |17-Aug-44|78  |United States|United States|735            |1.853                  |\n",
      "|11  |Alain & Gerard Wertheimer   |90       |null     |null|France       |France       |43             |0.579                  |\n",
      "|12  |Mukesh Ambani               |89       |19-Apr-57|65  |India        |India        |166            |0.101                  |\n",
      "|13  |Carlos Slim Helu            |72       |28-Jan-40|82  |Mexico       |Mexico       |15             |0.095                  |\n",
      "|14  |Vladimir Putin              |70       |7-Oct-52 |69  |Russia       |Russia       |83             |0.677                  |\n",
      "|15  |Françoise Bettencourt-Meyers|70       |10-Jul-53|69  |France       |France       |43             |0.579                  |\n",
      "|16  |Amancio Ortega Gaona        |70       |28-Mar-36|86  |Spain        |Spain        |27             |0.507                  |\n",
      "|17  |Michael Bloomberg           |70       |14-Feb-42|80  |United States|United States|735            |1.853                  |\n",
      "|18  |Mark Zuckerberg             |70       |14-May-84|38  |United States|United States|735            |1.853                  |\n",
      "|19  |Rob Walton                  |68       |28-Oct-44|77  |United States|United States|735            |1.853                  |\n",
      "|20  |Jim Walton                  |68       |7-Jun-48 |74  |United States|United States|735            |1.853                  |\n",
      "|21  |Zhong Shanshan              |68       |null     |null|China        |China        |1              |1.464                  |\n",
      "|22  |Alice Walton                |66       |7-Oct-49 |72  |United States|United States|735            |1.853                  |\n",
      "|23  |Julia Flesher Koch          |62       |12-Apr-62|60  |United States|United States|735            |1.853                  |\n",
      "+----+----------------------------+---------+---------+----+-------------+-------------+---------------+-----------------------+\n",
      "\n"
     ]
    }
   ],
   "source": [
    "df_prelast = df_people_new.join(df_country, df_people_new['nationality'] == df_country['country'], 'inner')\n",
    "df_prelast.show(df_prelast.count(), truncate=False)"
   ]
  },
  {
   "cell_type": "code",
   "execution_count": 22,
   "id": "4b7eb06e-dc68-47cf-be5e-ee142bdf25a1",
   "metadata": {
    "tags": []
   },
   "outputs": [
    {
     "name": "stdout",
     "output_type": "stream",
     "text": [
      "+----+----------------------------+---------+---------+---+-------------+\n",
      "|rank|name                        |net_worth|bday     |age|nationality  |\n",
      "+----+----------------------------+---------+---------+---+-------------+\n",
      "|1   |Elon Musk                   |240      |28-Jun-71|51 |South Africa |\n",
      "|2   |Jeff Bezos                  |150      |12-Jan-64|58 |United States|\n",
      "|3   |Gautam Adani                |138      |24-Jun-62|60 |India        |\n",
      "|4   |Bernard Arnault             |135      |5-Mar-49 |73 |France       |\n",
      "|5   |Bill Gates                  |118      |28-Oct-55|66 |United States|\n",
      "|6   |Warren Buffett              |101      |30-Aug-30|92 |United States|\n",
      "|7   |Larry Page                  |100      |26-Mar-73|49 |United States|\n",
      "|8   |Sergey Brin                 |96       |21-Aug-73|48 |United States|\n",
      "|9   |Steve Ballmer               |94       |24-Mar-56|66 |United States|\n",
      "|10  |Larry Ellison               |93       |17-Aug-44|78 |United States|\n",
      "|12  |Mukesh Ambani               |89       |19-Apr-57|65 |India        |\n",
      "|13  |Carlos Slim Helu            |72       |28-Jan-40|82 |Mexico       |\n",
      "|14  |Vladimir Putin              |70       |7-Oct-52 |69 |Russia       |\n",
      "|15  |Françoise Bettencourt-Meyers|70       |10-Jul-53|69 |France       |\n",
      "|16  |Amancio Ortega Gaona        |70       |28-Mar-36|86 |Spain        |\n",
      "|17  |Michael Bloomberg           |70       |14-Feb-42|80 |United States|\n",
      "|18  |Mark Zuckerberg             |70       |14-May-84|38 |United States|\n",
      "|19  |Rob Walton                  |68       |28-Oct-44|77 |United States|\n",
      "|20  |Jim Walton                  |68       |7-Jun-48 |74 |United States|\n",
      "|22  |Alice Walton                |66       |7-Oct-49 |72 |United States|\n",
      "|23  |Julia Flesher Koch          |62       |12-Apr-62|60 |United States|\n",
      "+----+----------------------------+---------+---------+---+-------------+\n",
      "\n"
     ]
    }
   ],
   "source": [
    "df_last = df_prelast.filter(col('age').isNotNull()).select(col('rank'), col('name'), col('net_worth'), col('bday'), col('age'), col('nationality'))\n",
    "df_last.show(df_last.count(), truncate=False)"
   ]
  },
  {
   "cell_type": "code",
   "execution_count": 23,
   "id": "38ced0ee-1134-4807-9bd5-b0f8065e030f",
   "metadata": {
    "tags": []
   },
   "outputs": [],
   "source": [
    "df_parquet = spark.read.schema(people_schema).parquet('data_parquet')"
   ]
  },
  {
   "cell_type": "code",
   "execution_count": 25,
   "id": "f714237d-b645-4ddd-8116-917e6a49d4c1",
   "metadata": {
    "tags": []
   },
   "outputs": [
    {
     "name": "stdout",
     "output_type": "stream",
     "text": [
      "+----+----------------------------------+-------------+---------+----+------------------------+\n",
      "|rank|name                              |net_worth    |bday     |age |nationality             |\n",
      "+----+----------------------------------+-------------+---------+----+------------------------+\n",
      "|2   |Jeff Bezos                        |$150 Billion |12-Jan-64|58  |United States of America|\n",
      "|5   |Bill Gates                        |$118 Billion |28-Oct-55|66  |United States of America|\n",
      "|6   |Warren Buffett                    |$101 Billion |30-Aug-30|92  |United States of America|\n",
      "|7   |Larry Page                        |$100 Billion |26-Mar-73|49  |United States of America|\n",
      "|8   |Sergey Brin                       |$96 Billion  |21-Aug-73|48  |United States of America|\n",
      "|9   |Steve Ballmer                     |$94 Billion  |24-Mar-56|66  |United States of America|\n",
      "|10  |Larry Ellison                     |$93 Billion  |17-Aug-44|78  |United States of America|\n",
      "|17  |Michael Bloomberg                 |$70 Billion  |14-Feb-42|80  |United States of America|\n",
      "|18  |Mark Zuckerberg                   |$70 Billion  |14-May-84|38  |United States of America|\n",
      "|19  |Rob Walton                        |$68 Billion  |28-Oct-44|77  |United States of America|\n",
      "|20  |Jim Walton                        |$68 Billion  |7-Jun-48 |74  |United States of America|\n",
      "|22  |Alice Walton                      |$66 Billion  |7-Oct-49 |72  |United States of America|\n",
      "|23  |Julia Flesher Koch                |$62 Billion  |12-Apr-62|60  |United States of America|\n",
      "|24  |Charles Koch                      |$60 Billion  |1-Nov-35 |86  |United States of America|\n",
      "|25  |Michael Dell                      |$52 Billion  |23-Feb-65|57  |United States of America|\n",
      "|33  |John Mars                         |$42 Billion  |15-Oct-35|86  |United States of America|\n",
      "|34  |Jacqueline Mars                   |$42 Billion  |10-Oct-39|82  |United States of America|\n",
      "|35  |Phil Knight                       |$40 Billion  |24-Feb-38|84  |United States of America|\n",
      "|37  |Stephen Schwarzman                |$35 Billion  |14-Feb-47|75  |United States of America|\n",
      "|50  |Ken Griffin                       |$28 Billion  |15-Oct-68|53  |United States of America|\n",
      "|51  |Abigail Johnson                   |$28 Billion  |19-Dec-61|60  |United States of America|\n",
      "|59  |Carl Icahn                        |$24 Billion  |16-Feb-36|86  |United States of America|\n",
      "|61  |Pierre Omidyar                    |$24 Billion  |21-Jun-67|55  |United States of America|\n",
      "|62  |Forrest Mars Jr                   |$23.4 Billion|16-Aug-31|91  |United States of America|\n",
      "|64  |Eric Schmidt                      |$23 Billion  |27-Apr-55|67  |United States of America|\n",
      "|67  |James Simons                      |$22 Billion  |25-Apr-38|84  |United States of America|\n",
      "|71  |Leonard Lauder                    |$21 Billion  |19-Mar-33|89  |United States of America|\n",
      "|76  |John Menard                       |$20 Billion  |22-Jan-40|82  |United States of America|\n",
      "|77  |Elaine Marshall                   |$20 Billion  |18-Nov-45|76  |United States of America|\n",
      "|79  |Dan Gilbert                       |$20 Billion  |17-Jan-62|60  |United States of America|\n",
      "|86  |Laurene Powell Jobs               |$19 Billion  |6-Nov-63 |58  |United States of America|\n",
      "|91  |Lukas Walton                      |$18 Billion  |null     |36  |United States of America|\n",
      "|94  |Donald Bren                       |$17 Billion  |11-May-32|90  |United States of America|\n",
      "|95  |Thomas Peterffy                   |$17 Billion  |30-Sep-44|77  |United States of America|\n",
      "|97  |Harold Hamm                       |$17 Billion  |11-Dec-45|76  |United States of America|\n",
      "|99  |Steven Cohen                      |$16 Billion  |11-Jun-56|66  |United States of America|\n",
      "|14  |Vladimir Putin                    |$70 Billion  |7-Oct-52 |69  |Russia                  |\n",
      "|36  |Vladimir Potanin                  |$35 Billion  |3-Jan-61 |61  |Russia                  |\n",
      "|72  |Andrey Melnichenko                |$21 Billion  |8-Mar-72 |50  |Russia                  |\n",
      "|75  |Alexey Mordashov                  |$20 Billion  |26-Sep-65|56  |Russia                  |\n",
      "|80  |Leonid Mikhelson                  |$20 Billion  |11-Aug-55|67  |Russia                  |\n",
      "|84  |Vladimir Lisin                    |$19 Billion  |7-May-56 |66  |Russia                  |\n",
      "|90  |Alisher Usmanov                   |$18 Billion  |9-Sep-53 |68  |Russia                  |\n",
      "|93  |Pavel Durov                       |$17 Billion  |10-Oct-84|37  |Russia                  |\n",
      "|98  |Viktor Vekselberg                 |$17 Billion  |14-Apr-57|65  |Russia                  |\n",
      "|21  |Zhong Shanshan                    |$68 Billion  |null     |null|China                   |\n",
      "|28  |Ma Huateng                        |$48 Billion  |29-Oct-71|50  |China                   |\n",
      "|31  |Zhang Yiming                      |$44 Billion  |1-Apr-83 |39  |China                   |\n",
      "|38  |Jack Ma                           |$34 Billion  |15-Oct-64|57  |China                   |\n",
      "|40  |Colin Huang                       |$33 Billion  |1-Jan-80 |42  |China                   |\n",
      "|41  |Lee Shau Kee                      |$33 Billion  |29-Jan-28|94  |China                   |\n",
      "|52  |He Xiangjian                      |$27 Billion  |5-Oct-42 |79  |China                   |\n",
      "|54  |William Ding                      |$26 Billion  |1-Oct-71 |50  |China                   |\n",
      "|58  |Eric Yuan                         |$25 Billion  |20-Feb-70|52  |China                   |\n",
      "|66  |Qin Yinglin                       |$22 Billion  |null     |57  |China                   |\n",
      "|68  |Wang Wei                          |$22 Billion  |null     |51  |China                   |\n",
      "|45  |Sheikh Mansour bin Zayed Al Nahyan|$30 Billion  |20-Nov-70|51  |Emirati                 |\n",
      "|89  |Sheikh Khalifa Bin Zayed Al Nahyan|$18 Billion  |25-Jan-48|74  |United Arab Emirates    |\n",
      "|4   |Bernard Arnault                   |$135 Billion |5-Mar-49 |73  |France                  |\n",
      "|11  |Alain & Gerard Wertheimer         |$90 Billion  |null     |null|France                  |\n",
      "|15  |Françoise Bettencourt-Meyers      |$70 Billion  |10-Jul-53|69  |France                  |\n",
      "|26  |Francois Pinault                  |$50 Billion  |21-Aug-36|86  |France                  |\n",
      "|29  |Alain Wertheimer                  |$45 Billion  |28-Sep-48|73  |France                  |\n",
      "|92  |Serge Dassault                    |$17.3 Billion|4-Apr-25 |97  |France                  |\n",
      "|73  |Sir Evelyn De Rothschild          |$20 Billion  |29-Aug-31|90  |England                 |\n",
      "|16  |Amancio Ortega Gaona              |$70 Billion  |28-Mar-36|86  |Spain                   |\n",
      "|48  |Maha Vajiralongkorn               |$30 Billion  |28-Jul-52|70  |Thailand                |\n",
      "|30  |Gerard Wertheimer                 |$45 Billion  |17-Apr-51|71  |French                  |\n",
      "|47  |Sultan of Brunei                  |$30 Billion  |15-Jul-46|76  |Brunei                  |\n",
      "|49  |Giovanni Ferrero                  |$28 Billion  |21-Sep-64|57  |Italy                   |\n",
      "|13  |Carlos Slim Helu                  |$72 Billion  |28-Jan-40|82  |Mexico                  |\n",
      "|3   |Gautam Adani                      |$138 Billion |24-Jun-62|60  |India                   |\n",
      "|12  |Mukesh Ambani                     |$89 Billion  |19-Apr-57|65  |India                   |\n",
      "|55  |Shiv Nadar                        |$25.9 Billion|14-Jul-45|77  |India                   |\n",
      "|81  |Pallonji Mistry                   |$19 Billion  |1-Jun-29 |null|India                   |\n",
      "|87  |Lakshmi Mittal                    |$18 Billion  |2-Sep-50 |71  |India                   |\n",
      "|39  |Miriam Adelson                    |$34 Billion  |10-Oct-45|76  |American, Israeli       |\n",
      "|74  |Salman bin Abdulaziz Al Saud      |$20 Billion  |31-Dec-35|86  |Saudi Arabia            |\n",
      "|96  |Prince Al Waleed Bin Talal Alsaud |$17 Billion  |7-Mar-55 |67  |Saudi Arabia            |\n",
      "|56  |Stefan Persson                    |$25 Billion  |4-Oct-47 |74  |Sweden                  |\n",
      "|70  |Aliko Dangote                     |$21 Billion  |10-Apr-57|65  |Nigeria                 |\n",
      "|32  |Tadashi Yanai                     |$42 Billion  |7-Feb-49 |73  |Japan                   |\n",
      "|46  |Masayoshi Son                     |$30 Billion  |11-Aug-57|65  |Japan                   |\n",
      "|60  |Takemitsu Takizaki                |$24 Billion  |10-Jun-45|77  |Japan                   |\n",
      "|65  |Satoshi Nakamoto                  |$22 Billion  |5-Apr-75 |73  |Japan                   |\n",
      "|42  |Len Blavatnik                     |$32 Billion  |14-Jun-57|65  |United Kingdom          |\n",
      "|69  |James Dyson                       |$22 Billion  |2-May-47 |75  |United Kingdom          |\n",
      "|85  |James Ratcliffe                   |$19 Billion  |18-Oct-52|69  |United Kingdom          |\n",
      "|88  |David & Simon Reuben              |$18 Billion  |null     |null|United Kingdom          |\n",
      "|1   |Elon Musk                         |$240 Billion |28-Jun-71|51  |South Africa            |\n",
      "|53  |Dieter Schwarz                    |$27 Billion  |24-Sep-39|82  |Germany                 |\n",
      "|82  |Susanne Klatten                   |$19 Billion  |28-Apr-62|60  |Germany                 |\n",
      "|100 |Stefan Quandt                     |$16 Billion  |9-May-66 |56  |Germany                 |\n",
      "|57  |Joseph Safra                      |$25 Billion  |1-Sep-38 |null|Brazil                  |\n",
      "|63  |Jorge Paulo Lemann                |$23 Billion  |26-Aug-39|83  |Brazil                  |\n",
      "|83  |Eduardo Saverin                   |$19 Billion  |19-Mar-82|40  |Brazil                  |\n",
      "|44  |Gina Rinehart                     |$31 Billion  |9-Feb-54 |68  |Australia               |\n",
      "|78  |Rupert Murdoch                    |$20 Billion  |11-Mar-31|91  |Australia               |\n",
      "|27  |David Thomson                     |$50 Billion  |12-Jun-57|65  |Canada                  |\n",
      "|43  |Li Ka-shing                       |$31 Billion  |29-Jul-28|94  |Canada                  |\n",
      "+----+----------------------------------+-------------+---------+----+------------------------+\n",
      "\n"
     ]
    }
   ],
   "source": [
    "df_parquet.show(df_parquet.count(), truncate=False)"
   ]
  },
  {
   "cell_type": "code",
   "execution_count": 26,
   "id": "c8808dce-b544-40de-a9e9-5472ede18a5b",
   "metadata": {
    "tags": []
   },
   "outputs": [
    {
     "name": "stdout",
     "output_type": "stream",
     "text": [
      "+----+------------------+-----------+---------+---+-----------+\n",
      "|rank|name              |net_worth  |bday     |age|nationality|\n",
      "+----+------------------+-----------+---------+---+-----------+\n",
      "|14  |Vladimir Putin    |$70 Billion|7-Oct-52 |69 |Russia     |\n",
      "|36  |Vladimir Potanin  |$35 Billion|3-Jan-61 |61 |Russia     |\n",
      "|72  |Andrey Melnichenko|$21 Billion|8-Mar-72 |50 |Russia     |\n",
      "|75  |Alexey Mordashov  |$20 Billion|26-Sep-65|56 |Russia     |\n",
      "|80  |Leonid Mikhelson  |$20 Billion|11-Aug-55|67 |Russia     |\n",
      "|84  |Vladimir Lisin    |$19 Billion|7-May-56 |66 |Russia     |\n",
      "|90  |Alisher Usmanov   |$18 Billion|9-Sep-53 |68 |Russia     |\n",
      "|93  |Pavel Durov       |$17 Billion|10-Oct-84|37 |Russia     |\n",
      "|98  |Viktor Vekselberg |$17 Billion|14-Apr-57|65 |Russia     |\n",
      "+----+------------------+-----------+---------+---+-----------+\n",
      "\n"
     ]
    }
   ],
   "source": [
    "df_parquet_filtered = df_parquet.filter(col('nationality') == 'Russia')\n",
    "df_parquet_filtered.show(df_parquet_filtered.count(), truncate=False)"
   ]
  },
  {
   "cell_type": "code",
   "execution_count": 27,
   "id": "78123061-9ca3-4d63-9292-2d761beaadc5",
   "metadata": {
    "tags": []
   },
   "outputs": [
    {
     "name": "stdout",
     "output_type": "stream",
     "text": [
      "+----+----------------------------+-----------+---------+---+-------------+\n",
      "|rank|name                        |net_worth  |bday     |age|nationality  |\n",
      "+----+----------------------------+-----------+---------+---+-------------+\n",
      "|1   |Elon Musk                   |240        |28-Jun-71|51 |South Africa |\n",
      "|2   |Jeff Bezos                  |150        |12-Jan-64|58 |United States|\n",
      "|3   |Gautam Adani                |138        |24-Jun-62|60 |India        |\n",
      "|4   |Bernard Arnault             |135        |5-Mar-49 |73 |France       |\n",
      "|5   |Bill Gates                  |118        |28-Oct-55|66 |United States|\n",
      "|6   |Warren Buffett              |101        |30-Aug-30|92 |United States|\n",
      "|7   |Larry Page                  |100        |26-Mar-73|49 |United States|\n",
      "|8   |Sergey Brin                 |96         |21-Aug-73|48 |United States|\n",
      "|9   |Steve Ballmer               |94         |24-Mar-56|66 |United States|\n",
      "|10  |Larry Ellison               |93         |17-Aug-44|78 |United States|\n",
      "|12  |Mukesh Ambani               |89         |19-Apr-57|65 |India        |\n",
      "|13  |Carlos Slim Helu            |72         |28-Jan-40|82 |Mexico       |\n",
      "|14  |Vladimir Putin              |70         |7-Oct-52 |69 |Russia       |\n",
      "|15  |Françoise Bettencourt-Meyers|70         |10-Jul-53|69 |France       |\n",
      "|16  |Amancio Ortega Gaona        |70         |28-Mar-36|86 |Spain        |\n",
      "|17  |Michael Bloomberg           |70         |14-Feb-42|80 |United States|\n",
      "|18  |Mark Zuckerberg             |70         |14-May-84|38 |United States|\n",
      "|19  |Rob Walton                  |68         |28-Oct-44|77 |United States|\n",
      "|20  |Jim Walton                  |68         |7-Jun-48 |74 |United States|\n",
      "|22  |Alice Walton                |66         |7-Oct-49 |72 |United States|\n",
      "|23  |Julia Flesher Koch          |62         |12-Apr-62|60 |United States|\n",
      "|14  |Vladimir Putin              |$70 Billion|7-Oct-52 |69 |Russia       |\n",
      "|36  |Vladimir Potanin            |$35 Billion|3-Jan-61 |61 |Russia       |\n",
      "|72  |Andrey Melnichenko          |$21 Billion|8-Mar-72 |50 |Russia       |\n",
      "|75  |Alexey Mordashov            |$20 Billion|26-Sep-65|56 |Russia       |\n",
      "|80  |Leonid Mikhelson            |$20 Billion|11-Aug-55|67 |Russia       |\n",
      "|84  |Vladimir Lisin              |$19 Billion|7-May-56 |66 |Russia       |\n",
      "|90  |Alisher Usmanov             |$18 Billion|9-Sep-53 |68 |Russia       |\n",
      "|93  |Pavel Durov                 |$17 Billion|10-Oct-84|37 |Russia       |\n",
      "|98  |Viktor Vekselberg           |$17 Billion|14-Apr-57|65 |Russia       |\n",
      "+----+----------------------------+-----------+---------+---+-------------+\n",
      "\n"
     ]
    }
   ],
   "source": [
    "df_last = df_last.union(df_parquet_filtered)\n",
    "df_last.show(df_last.count(), truncate=False)"
   ]
  },
  {
   "cell_type": "code",
   "execution_count": 30,
   "id": "a81e94e3-4774-4799-9270-0e00343cba03",
   "metadata": {
    "tags": []
   },
   "outputs": [],
   "source": [
    "df_last.write.option(\"header\", 'true').mode('overwrite').csv(\"1.csv\")\n"
   ]
  },
  {
   "cell_type": "code",
   "execution_count": 31,
   "id": "6532aee9-5880-4c93-9e97-ed12e71ef03b",
   "metadata": {
    "tags": []
   },
   "outputs": [],
   "source": [
    "plans = df_last._jdf.queryExecution().toString()"
   ]
  },
  {
   "cell_type": "code",
   "execution_count": 33,
   "id": "e3438d15-d341-49ca-beea-333d543d0bbf",
   "metadata": {
    "tags": []
   },
   "outputs": [
    {
     "data": {
      "text/plain": [
       "\"== Parsed Logical Plan ==\\n'Union false, false\\n:- Project [rank#44, name#45, net_worth#195, bday#47, age#48, nationality#381]\\n:  +- Filter isnotnull(age#48)\\n:     +- Join Inner, (nationality#381 = country#300)\\n:        :- Project [rank#44, name#45, net_worth#195, bday#47, age#48, CASE WHEN (nationality#49 = United States of America) THEN United States WHEN (nationality#49 = French) THEN France WHEN (nationality#49 = England) THEN United Kingdom ELSE nationality#49 END AS nationality#381]\\n:        :  +- Filter (net_worth#195 > 60)\\n:        :     +- Project [rank#44, name#45, cast(regexp_extract(net_worth#46, ^\\\\$(\\\\d+).*$, 1) as int) AS net_worth#195, bday#47, age#48, nationality#49]\\n:        :        +- Relation [rank#44,name#45,net_worth#46,bday#47,age#48,nationality#49] csv\\n:        +- Relation [country#300,num_billionares#301,billionaire_per_million#302] csv\\n+- Filter (nationality#570 = Russia)\\n   +- Relation [rank#565,name#566,net_worth#567,bday#568,age#569,nationality#570] parquet\\n\\n== Analyzed Logical Plan ==\\nrank: int, name: string, net_worth: string, bday: string, age: int, nationality: string\\nUnion false, false\\n:- Project [rank#44, name#45, cast(net_worth#195 as string) AS net_worth#675, bday#47, age#48, nationality#381]\\n:  +- Project [rank#44, name#45, net_worth#195, bday#47, age#48, nationality#381]\\n:     +- Filter isnotnull(age#48)\\n:        +- Join Inner, (nationality#381 = country#300)\\n:           :- Project [rank#44, name#45, net_worth#195, bday#47, age#48, CASE WHEN (nationality#49 = United States of America) THEN United States WHEN (nationality#49 = French) THEN France WHEN (nationality#49 = England) THEN United Kingdom ELSE nationality#49 END AS nationality#381]\\n:           :  +- Filter (net_worth#195 > 60)\\n:           :     +- Project [rank#44, name#45, cast(regexp_extract(net_worth#46, ^\\\\$(\\\\d+).*$, 1) as int) AS net_worth#195, bday#47, age#48, nationality#49]\\n:           :        +- Relation [rank#44,name#45,net_worth#46,bday#47,age#48,nationality#49] csv\\n:           +- Relation [country#300,num_billionares#301,billionaire_per_million#302] csv\\n+- Filter (nationality#570 = Russia)\\n   +- Relation [rank#565,name#566,net_worth#567,bday#568,age#569,nationality#570] parquet\\n\\n== Optimized Logical Plan ==\\nUnion false, false\\n:- Project [rank#44, name#45, cast(net_worth#195 as string) AS net_worth#675, bday#47, age#48, nationality#381]\\n:  +- Join Inner, (nationality#381 = country#300)\\n:     :- Project [rank#44, name#45, cast(regexp_extract(net_worth#46, ^\\\\$(\\\\d+).*$, 1) as int) AS net_worth#195, bday#47, age#48, CASE WHEN (nationality#49 = United States of America) THEN United States WHEN (nationality#49 = French) THEN France WHEN (nationality#49 = England) THEN United Kingdom ELSE nationality#49 END AS nationality#381]\\n:     :  +- Filter ((isnotnull(net_worth#46) AND ((cast(regexp_extract(net_worth#46, ^\\\\$(\\\\d+).*$, 1) as int) > 60) AND isnotnull(age#48))) AND CASE WHEN (nationality#49 = United States of America) THEN true WHEN (nationality#49 = French) THEN true WHEN (nationality#49 = England) THEN true ELSE isnotnull(nationality#49) END)\\n:     :     +- Relation [rank#44,name#45,net_worth#46,bday#47,age#48,nationality#49] csv\\n:     +- Project [country#300]\\n:        +- Filter isnotnull(country#300)\\n:           +- Relation [country#300,num_billionares#301,billionaire_per_million#302] csv\\n+- Filter (isnotnull(nationality#570) AND (nationality#570 = Russia))\\n   +- Relation [rank#565,name#566,net_worth#567,bday#568,age#569,nationality#570] parquet\\n\\n== Physical Plan ==\\nAdaptiveSparkPlan isFinalPlan=false\\n+- Union\\n   :- Project [rank#44, name#45, cast(net_worth#195 as string) AS net_worth#675, bday#47, age#48, nationality#381]\\n   :  +- BroadcastHashJoin [nationality#381], [country#300], Inner, BuildRight, false\\n   :     :- Project [rank#44, name#45, cast(regexp_extract(net_worth#46, ^\\\\$(\\\\d+).*$, 1) as int) AS net_worth#195, bday#47, age#48, CASE WHEN (nationality#49 = United States of America) THEN United States WHEN (nationality#49 = French) THEN France WHEN (nationality#49 = England) THEN United Kingdom ELSE nationality#49 END AS nationality#381]\\n   :     :  +- Filter (((isnotnull(net_worth#46) AND (cast(regexp_extract(net_worth#46, ^\\\\$(\\\\d+).*$, 1) as int) > 60)) AND isnotnull(age#48)) AND CASE WHEN (nationality#49 = United States of America) THEN true WHEN (nationality#49 = French) THEN true WHEN (nationality#49 = England) THEN true ELSE isnotnull(nationality#49) END)\\n   :     :     +- FileScan csv [rank#44,name#45,net_worth#46,bday#47,age#48,nationality#49] Batched: false, DataFilters: [isnotnull(net_worth#46), (cast(regexp_extract(net_worth#46, ^\\\\$(\\\\d+).*$, 1) as int) > 60), isnot..., Format: CSV, Location: InMemoryFileIndex(1 paths)[file:/home/jovyan/3_Spark_Basics/data/top_100_richest.csv], PartitionFilters: [], PushedFilters: [IsNotNull(net_worth), IsNotNull(age)], ReadSchema: struct<rank:int,name:string,net_worth:string,bday:string,age:int,nationality:string>\\n   :     +- BroadcastExchange HashedRelationBroadcastMode(List(input[0, string, false]),false), [plan_id=1443]\\n   :        +- Filter isnotnull(country#300)\\n   :           +- FileScan csv [country#300] Batched: false, DataFilters: [isnotnull(country#300)], Format: CSV, Location: InMemoryFileIndex(1 paths)[file:/home/jovyan/3_Spark_Basics/data/wiki_number_of_billionaires.csv], PartitionFilters: [], PushedFilters: [IsNotNull(country)], ReadSchema: struct<country:string>\\n   +- FileScan parquet [rank#565,name#566,net_worth#567,bday#568,age#569,nationality#570] Batched: true, DataFilters: [], Format: Parquet, Location: InMemoryFileIndex(1 paths)[file:/home/jovyan/3_Spark_Basics/data_parquet], PartitionFilters: [isnotnull(nationality#570), (nationality#570 = Russia)], PushedFilters: [], ReadSchema: struct<rank:int,name:string,net_worth:string,bday:string,age:int>\\n\""
      ]
     },
     "execution_count": 33,
     "metadata": {},
     "output_type": "execute_result"
    }
   ],
   "source": [
    "plans"
   ]
  },
  {
   "cell_type": "code",
   "execution_count": 34,
   "id": "68b17959-b110-4d82-9af7-755b80a78a54",
   "metadata": {
    "tags": []
   },
   "outputs": [],
   "source": [
    "plans_1 = df_last._sc._jvm.PythonSQLUtils.explainString(df_last._jdf.queryExecution(), 'EXTENDED')\n"
   ]
  },
  {
   "cell_type": "code",
   "execution_count": 35,
   "id": "a55f43a4-c799-4fb4-a4e5-ed84be5ab1bf",
   "metadata": {
    "tags": []
   },
   "outputs": [
    {
     "data": {
      "text/plain": [
       "\"== Parsed Logical Plan ==\\n'Union false, false\\n:- Project [rank#44, name#45, net_worth#195, bday#47, age#48, nationality#381]\\n:  +- Filter isnotnull(age#48)\\n:     +- Join Inner, (nationality#381 = country#300)\\n:        :- Project [rank#44, name#45, net_worth#195, bday#47, age#48, CASE WHEN (nationality#49 = United States of America) THEN United States WHEN (nationality#49 = French) THEN France WHEN (nationality#49 = England) THEN United Kingdom ELSE nationality#49 END AS nationality#381]\\n:        :  +- Filter (net_worth#195 > 60)\\n:        :     +- Project [rank#44, name#45, cast(regexp_extract(net_worth#46, ^\\\\$(\\\\d+).*$, 1) as int) AS net_worth#195, bday#47, age#48, nationality#49]\\n:        :        +- Relation [rank#44,name#45,net_worth#46,bday#47,age#48,nationality#49] csv\\n:        +- Relation [country#300,num_billionares#301,billionaire_per_million#302] csv\\n+- Filter (nationality#570 = Russia)\\n   +- Relation [rank#565,name#566,net_worth#567,bday#568,age#569,nationality#570] parquet\\n\\n== Analyzed Logical Plan ==\\nrank: int, name: string, net_worth: string, bday: string, age: int, nationality: string\\nUnion false, false\\n:- Project [rank#44, name#45, cast(net_worth#195 as string) AS net_worth#675, bday#47, age#48, nationality#381]\\n:  +- Project [rank#44, name#45, net_worth#195, bday#47, age#48, nationality#381]\\n:     +- Filter isnotnull(age#48)\\n:        +- Join Inner, (nationality#381 = country#300)\\n:           :- Project [rank#44, name#45, net_worth#195, bday#47, age#48, CASE WHEN (nationality#49 = United States of America) THEN United States WHEN (nationality#49 = French) THEN France WHEN (nationality#49 = England) THEN United Kingdom ELSE nationality#49 END AS nationality#381]\\n:           :  +- Filter (net_worth#195 > 60)\\n:           :     +- Project [rank#44, name#45, cast(regexp_extract(net_worth#46, ^\\\\$(\\\\d+).*$, 1) as int) AS net_worth#195, bday#47, age#48, nationality#49]\\n:           :        +- Relation [rank#44,name#45,net_worth#46,bday#47,age#48,nationality#49] csv\\n:           +- Relation [country#300,num_billionares#301,billionaire_per_million#302] csv\\n+- Filter (nationality#570 = Russia)\\n   +- Relation [rank#565,name#566,net_worth#567,bday#568,age#569,nationality#570] parquet\\n\\n== Optimized Logical Plan ==\\nUnion false, false\\n:- Project [rank#44, name#45, cast(net_worth#195 as string) AS net_worth#675, bday#47, age#48, nationality#381]\\n:  +- Join Inner, (nationality#381 = country#300)\\n:     :- Project [rank#44, name#45, cast(regexp_extract(net_worth#46, ^\\\\$(\\\\d+).*$, 1) as int) AS net_worth#195, bday#47, age#48, CASE WHEN (nationality#49 = United States of America) THEN United States WHEN (nationality#49 = French) THEN France WHEN (nationality#49 = England) THEN United Kingdom ELSE nationality#49 END AS nationality#381]\\n:     :  +- Filter ((isnotnull(net_worth#46) AND ((cast(regexp_extract(net_worth#46, ^\\\\$(\\\\d+).*$, 1) as int) > 60) AND isnotnull(age#48))) AND CASE WHEN (nationality#49 = United States of America) THEN true WHEN (nationality#49 = French) THEN true WHEN (nationality#49 = England) THEN true ELSE isnotnull(nationality#49) END)\\n:     :     +- Relation [rank#44,name#45,net_worth#46,bday#47,age#48,nationality#49] csv\\n:     +- Project [country#300]\\n:        +- Filter isnotnull(country#300)\\n:           +- Relation [country#300,num_billionares#301,billionaire_per_million#302] csv\\n+- Filter (isnotnull(nationality#570) AND (nationality#570 = Russia))\\n   +- Relation [rank#565,name#566,net_worth#567,bday#568,age#569,nationality#570] parquet\\n\\n== Physical Plan ==\\nAdaptiveSparkPlan isFinalPlan=false\\n+- Union\\n   :- Project [rank#44, name#45, cast(net_worth#195 as string) AS net_worth#675, bday#47, age#48, nationality#381]\\n   :  +- BroadcastHashJoin [nationality#381], [country#300], Inner, BuildRight, false\\n   :     :- Project [rank#44, name#45, cast(regexp_extract(net_worth#46, ^\\\\$(\\\\d+).*$, 1) as int) AS net_worth#195, bday#47, age#48, CASE WHEN (nationality#49 = United States of America) THEN United States WHEN (nationality#49 = French) THEN France WHEN (nationality#49 = England) THEN United Kingdom ELSE nationality#49 END AS nationality#381]\\n   :     :  +- Filter (((isnotnull(net_worth#46) AND (cast(regexp_extract(net_worth#46, ^\\\\$(\\\\d+).*$, 1) as int) > 60)) AND isnotnull(age#48)) AND CASE WHEN (nationality#49 = United States of America) THEN true WHEN (nationality#49 = French) THEN true WHEN (nationality#49 = England) THEN true ELSE isnotnull(nationality#49) END)\\n   :     :     +- FileScan csv [rank#44,name#45,net_worth#46,bday#47,age#48,nationality#49] Batched: false, DataFilters: [isnotnull(net_worth#46), (cast(regexp_extract(net_worth#46, ^\\\\$(\\\\d+).*$, 1) as int) > 60), isnot..., Format: CSV, Location: InMemoryFileIndex(1 paths)[file:/home/jovyan/3_Spark_Basics/data/top_100_richest.csv], PartitionFilters: [], PushedFilters: [IsNotNull(net_worth), IsNotNull(age)], ReadSchema: struct<rank:int,name:string,net_worth:string,bday:string,age:int,nationality:string>\\n   :     +- BroadcastExchange HashedRelationBroadcastMode(List(input[0, string, false]),false), [plan_id=1443]\\n   :        +- Filter isnotnull(country#300)\\n   :           +- FileScan csv [country#300] Batched: false, DataFilters: [isnotnull(country#300)], Format: CSV, Location: InMemoryFileIndex(1 paths)[file:/home/jovyan/3_Spark_Basics/data/wiki_number_of_billionaires.csv], PartitionFilters: [], PushedFilters: [IsNotNull(country)], ReadSchema: struct<country:string>\\n   +- FileScan parquet [rank#565,name#566,net_worth#567,bday#568,age#569,nationality#570] Batched: true, DataFilters: [], Format: Parquet, Location: InMemoryFileIndex(1 paths)[file:/home/jovyan/3_Spark_Basics/data_parquet], PartitionFilters: [isnotnull(nationality#570), (nationality#570 = Russia)], PushedFilters: [], ReadSchema: struct<rank:int,name:string,net_worth:string,bday:string,age:int>\\n\""
      ]
     },
     "execution_count": 35,
     "metadata": {},
     "output_type": "execute_result"
    }
   ],
   "source": [
    "plans_1"
   ]
  },
  {
   "cell_type": "code",
   "execution_count": 39,
   "id": "c9219104-f1a7-4ec6-8079-729d8013732e",
   "metadata": {
    "tags": []
   },
   "outputs": [],
   "source": [
    "with open('plans.txt', 'w') as file:\n",
    "    file.write(plans)"
   ]
  },
  {
   "cell_type": "code",
   "execution_count": 38,
   "id": "f4e7e9f0-5733-44a4-a72e-147c13803a9a",
   "metadata": {
    "tags": []
   },
   "outputs": [],
   "source": [
    "with open('plans1.txt', 'w') as file:\n",
    "    file.write(plans_1)"
   ]
  },
  {
   "cell_type": "code",
   "execution_count": null,
   "id": "3c24fc43-6000-4aae-b633-5f2dc90fdede",
   "metadata": {},
   "outputs": [],
   "source": []
  }
 ],
 "metadata": {
  "kernelspec": {
   "display_name": "Python 3 (ipykernel)",
   "language": "python",
   "name": "python3"
  },
  "language_info": {
   "codemirror_mode": {
    "name": "ipython",
    "version": 3
   },
   "file_extension": ".py",
   "mimetype": "text/x-python",
   "name": "python",
   "nbconvert_exporter": "python",
   "pygments_lexer": "ipython3",
   "version": "3.10.10"
  }
 },
 "nbformat": 4,
 "nbformat_minor": 5
}
