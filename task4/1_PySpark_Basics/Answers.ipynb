{
 "cells": [
  {
   "cell_type": "markdown",
   "id": "trained-moses",
   "metadata": {},
   "source": [
    "import libraries(I provide all libs that I need when make this tasks, if you need some external import them here)"
   ]
  },
  {
   "cell_type": "code",
   "execution_count": 1,
   "id": "induced-african",
   "metadata": {
    "tags": []
   },
   "outputs": [],
   "source": [
    "import pyspark\n",
    "import pyspark.sql.functions as F\n",
    "from pyspark.sql import SparkSession\n",
    "from pyspark.sql.types import StructType, StructField, IntegerType, StringType\n",
    "from pyspark.sql.functions import col\n",
    "from pyspark.sql.functions import max, avg, min\n",
    "from pyspark.sql.window import Window\n",
    "from pyspark.sql.functions import row_number\n",
    "from pyspark.sql.functions import when\n",
    "from pyspark.sql.functions import rank"
   ]
  },
  {
   "cell_type": "markdown",
   "id": "permanent-photographer",
   "metadata": {},
   "source": [
    "create local SparkSession"
   ]
  },
  {
   "cell_type": "code",
   "execution_count": 2,
   "id": "stock-partnership",
   "metadata": {
    "tags": []
   },
   "outputs": [
    {
     "data": {
      "text/html": [
       "\n",
       "            <div>\n",
       "                <p><b>SparkSession - in-memory</b></p>\n",
       "                \n",
       "        <div>\n",
       "            <p><b>SparkContext</b></p>\n",
       "\n",
       "            <p><a href=\"http://800044a35115:4040\">Spark UI</a></p>\n",
       "\n",
       "            <dl>\n",
       "              <dt>Version</dt>\n",
       "                <dd><code>v3.3.2</code></dd>\n",
       "              <dt>Master</dt>\n",
       "                <dd><code>local[1]</code></dd>\n",
       "              <dt>AppName</dt>\n",
       "                <dd><code>PySpark_Basics</code></dd>\n",
       "            </dl>\n",
       "        </div>\n",
       "        \n",
       "            </div>\n",
       "        "
      ],
      "text/plain": [
       "<pyspark.sql.session.SparkSession at 0x7ff9e03e3d00>"
      ]
     },
     "execution_count": 2,
     "metadata": {},
     "output_type": "execute_result"
    }
   ],
   "source": [
    "spark = SparkSession.builder.master(\"local[1]\") \\\n",
    "                    .appName('PySpark_Basics') \\\n",
    "                    .getOrCreate()\n",
    "spark"
   ]
  },
  {
   "cell_type": "markdown",
   "id": "juvenile-blame",
   "metadata": {},
   "source": [
    "read csv with inferschema"
   ]
  },
  {
   "cell_type": "code",
   "execution_count": 3,
   "id": "computational-liverpool",
   "metadata": {
    "tags": []
   },
   "outputs": [
    {
     "name": "stdout",
     "output_type": "stream",
     "text": [
      "+---+---------+----------------+---------------+--------------------+--------+---------------+-------------+------------------+------------+----------------+------------+\n",
      "|_c0|work_year|experience_level|employment_type|           job_title|  salary|salary_currency|salary_in_usd|employee_residence|remote_ratio|company_location|company_size|\n",
      "+---+---------+----------------+---------------+--------------------+--------+---------------+-------------+------------------+------------+----------------+------------+\n",
      "|  0|     2020|              MI|             FT|      Data Scientist|   70000|            EUR|        79833|                DE|           0|              DE|           L|\n",
      "|  1|     2020|              SE|             FT|Machine Learning ...|  260000|            USD|       260000|                JP|           0|              JP|           S|\n",
      "|  2|     2020|              SE|             FT|   Big Data Engineer|   85000|            GBP|       109024|                GB|          50|              GB|           M|\n",
      "|  3|     2020|              MI|             FT|Product Data Analyst|   20000|            USD|        20000|                HN|           0|              HN|           S|\n",
      "|  4|     2020|              SE|             FT|Machine Learning ...|  150000|            USD|       150000|                US|          50|              US|           L|\n",
      "|  5|     2020|              EN|             FT|        Data Analyst|   72000|            USD|        72000|                US|         100|              US|           L|\n",
      "|  6|     2020|              SE|             FT| Lead Data Scientist|  190000|            USD|       190000|                US|         100|              US|           S|\n",
      "|  7|     2020|              MI|             FT|      Data Scientist|11000000|            HUF|        35735|                HU|          50|              HU|           L|\n",
      "|  8|     2020|              MI|             FT|Business Data Ana...|  135000|            USD|       135000|                US|         100|              US|           L|\n",
      "|  9|     2020|              SE|             FT|  Lead Data Engineer|  125000|            USD|       125000|                NZ|          50|              NZ|           S|\n",
      "| 10|     2020|              EN|             FT|      Data Scientist|   45000|            EUR|        51321|                FR|           0|              FR|           S|\n",
      "| 11|     2020|              MI|             FT|      Data Scientist| 3000000|            INR|        40481|                IN|           0|              IN|           L|\n",
      "| 12|     2020|              EN|             FT|      Data Scientist|   35000|            EUR|        39916|                FR|           0|              FR|           M|\n",
      "| 13|     2020|              MI|             FT|   Lead Data Analyst|   87000|            USD|        87000|                US|         100|              US|           L|\n",
      "| 14|     2020|              MI|             FT|        Data Analyst|   85000|            USD|        85000|                US|         100|              US|           L|\n",
      "| 15|     2020|              MI|             FT|        Data Analyst|    8000|            USD|         8000|                PK|          50|              PK|           L|\n",
      "| 16|     2020|              EN|             FT|       Data Engineer| 4450000|            JPY|        41689|                JP|         100|              JP|           S|\n",
      "| 17|     2020|              SE|             FT|   Big Data Engineer|  100000|            EUR|       114047|                PL|         100|              GB|           S|\n",
      "| 18|     2020|              EN|             FT|Data Science Cons...|  423000|            INR|         5707|                IN|          50|              IN|           M|\n",
      "| 19|     2020|              MI|             FT|  Lead Data Engineer|   56000|            USD|        56000|                PT|         100|              US|           M|\n",
      "+---+---------+----------------+---------------+--------------------+--------+---------------+-------------+------------------+------------+----------------+------------+\n",
      "only showing top 20 rows\n",
      "\n"
     ]
    }
   ],
   "source": [
    "df = spark.read.csv('ds_salaries.csv', header=True, inferSchema=True)\n",
    "df.show()"
   ]
  },
  {
   "cell_type": "markdown",
   "id": "stopped-dominant",
   "metadata": {},
   "source": [
    "read csv one more time with the same code and you will see that it almostly don't take time, because info already in SparkSession and it will not read nothing\n",
    "from this file"
   ]
  },
  {
   "cell_type": "code",
   "execution_count": 4,
   "id": "aging-neighborhood",
   "metadata": {
    "tags": []
   },
   "outputs": [],
   "source": [
    "df = spark.read.csv('ds_salaries.csv', header=True, inferSchema=True)"
   ]
  },
  {
   "cell_type": "markdown",
   "id": "mature-tomorrow",
   "metadata": {},
   "source": [
    "write schema of scv on screen"
   ]
  },
  {
   "cell_type": "code",
   "execution_count": 5,
   "id": "least-communications",
   "metadata": {
    "tags": []
   },
   "outputs": [
    {
     "name": "stdout",
     "output_type": "stream",
     "text": [
      "root\n",
      " |-- _c0: integer (nullable = true)\n",
      " |-- work_year: integer (nullable = true)\n",
      " |-- experience_level: string (nullable = true)\n",
      " |-- employment_type: string (nullable = true)\n",
      " |-- job_title: string (nullable = true)\n",
      " |-- salary: integer (nullable = true)\n",
      " |-- salary_currency: string (nullable = true)\n",
      " |-- salary_in_usd: integer (nullable = true)\n",
      " |-- employee_residence: string (nullable = true)\n",
      " |-- remote_ratio: integer (nullable = true)\n",
      " |-- company_location: string (nullable = true)\n",
      " |-- company_size: string (nullable = true)\n",
      "\n"
     ]
    }
   ],
   "source": [
    "df.printSchema()"
   ]
  },
  {
   "cell_type": "markdown",
   "id": "connected-brother",
   "metadata": {},
   "source": [
    "create schema of this scv"
   ]
  },
  {
   "cell_type": "code",
   "execution_count": 3,
   "id": "progressive-dictionary",
   "metadata": {
    "tags": []
   },
   "outputs": [],
   "source": [
    "schema = StructType([\n",
    "    StructField(\"employee_id\", IntegerType(), True),\n",
    "    StructField(\"work_year\", IntegerType(), True),\n",
    "    StructField(\"experience_level\", StringType(), True),\n",
    "    StructField(\"employment_type\", StringType(), True),\n",
    "    StructField(\"job_title\", StringType(), True),\n",
    "    StructField(\"salary\", IntegerType(), True),\n",
    "    StructField(\"salary_currency\", StringType(), True),\n",
    "    StructField(\"salary_in_usd\", IntegerType(), True),\n",
    "    StructField(\"employee_residence\", StringType(), True),\n",
    "    StructField(\"remote_ratio\", IntegerType(), True),\n",
    "    StructField(\"company_location\", StringType(), True),\n",
    "    StructField(\"company_size\", StringType(), True)\n",
    "])"
   ]
  },
  {
   "cell_type": "markdown",
   "id": "auburn-sauce",
   "metadata": {},
   "source": [
    "restart kernel without cleaning output and after restarting you need to initialize SparkSession, after initialize start execute only cells from cell with schema=\n",
    "=StructType.... \n",
    "To restart kernel click Kernel, Restart."
   ]
  },
  {
   "cell_type": "markdown",
   "id": "artistic-hospital",
   "metadata": {},
   "source": [
    "read ds_salaries with predefined schema and compare results from this cell and cell with inferSchema"
   ]
  },
  {
   "cell_type": "code",
   "execution_count": 4,
   "id": "literary-plaintiff",
   "metadata": {
    "tags": []
   },
   "outputs": [
    {
     "name": "stdout",
     "output_type": "stream",
     "text": [
      "+-----------+---------+----------------+---------------+--------------------+--------+---------------+-------------+------------------+------------+----------------+------------+\n",
      "|employee_id|work_year|experience_level|employment_type|           job_title|  salary|salary_currency|salary_in_usd|employee_residence|remote_ratio|company_location|company_size|\n",
      "+-----------+---------+----------------+---------------+--------------------+--------+---------------+-------------+------------------+------------+----------------+------------+\n",
      "|          0|     2020|              MI|             FT|      Data Scientist|   70000|            EUR|        79833|                DE|           0|              DE|           L|\n",
      "|          1|     2020|              SE|             FT|Machine Learning ...|  260000|            USD|       260000|                JP|           0|              JP|           S|\n",
      "|          2|     2020|              SE|             FT|   Big Data Engineer|   85000|            GBP|       109024|                GB|          50|              GB|           M|\n",
      "|          3|     2020|              MI|             FT|Product Data Analyst|   20000|            USD|        20000|                HN|           0|              HN|           S|\n",
      "|          4|     2020|              SE|             FT|Machine Learning ...|  150000|            USD|       150000|                US|          50|              US|           L|\n",
      "|          5|     2020|              EN|             FT|        Data Analyst|   72000|            USD|        72000|                US|         100|              US|           L|\n",
      "|          6|     2020|              SE|             FT| Lead Data Scientist|  190000|            USD|       190000|                US|         100|              US|           S|\n",
      "|          7|     2020|              MI|             FT|      Data Scientist|11000000|            HUF|        35735|                HU|          50|              HU|           L|\n",
      "|          8|     2020|              MI|             FT|Business Data Ana...|  135000|            USD|       135000|                US|         100|              US|           L|\n",
      "|          9|     2020|              SE|             FT|  Lead Data Engineer|  125000|            USD|       125000|                NZ|          50|              NZ|           S|\n",
      "|         10|     2020|              EN|             FT|      Data Scientist|   45000|            EUR|        51321|                FR|           0|              FR|           S|\n",
      "|         11|     2020|              MI|             FT|      Data Scientist| 3000000|            INR|        40481|                IN|           0|              IN|           L|\n",
      "|         12|     2020|              EN|             FT|      Data Scientist|   35000|            EUR|        39916|                FR|           0|              FR|           M|\n",
      "|         13|     2020|              MI|             FT|   Lead Data Analyst|   87000|            USD|        87000|                US|         100|              US|           L|\n",
      "|         14|     2020|              MI|             FT|        Data Analyst|   85000|            USD|        85000|                US|         100|              US|           L|\n",
      "|         15|     2020|              MI|             FT|        Data Analyst|    8000|            USD|         8000|                PK|          50|              PK|           L|\n",
      "|         16|     2020|              EN|             FT|       Data Engineer| 4450000|            JPY|        41689|                JP|         100|              JP|           S|\n",
      "|         17|     2020|              SE|             FT|   Big Data Engineer|  100000|            EUR|       114047|                PL|         100|              GB|           S|\n",
      "|         18|     2020|              EN|             FT|Data Science Cons...|  423000|            INR|         5707|                IN|          50|              IN|           M|\n",
      "|         19|     2020|              MI|             FT|  Lead Data Engineer|   56000|            USD|        56000|                PT|         100|              US|           M|\n",
      "+-----------+---------+----------------+---------------+--------------------+--------+---------------+-------------+------------------+------------+----------------+------------+\n",
      "only showing top 20 rows\n",
      "\n"
     ]
    }
   ],
   "source": [
    "ds_salaries = spark.read.csv(\"ds_salaries.csv\", header=True, schema=schema)\n",
    "ds_salaries.show()"
   ]
  },
  {
   "cell_type": "markdown",
   "id": "senior-joint",
   "metadata": {},
   "source": [
    "this happens because read operation is lazy(transformation), but if you use inferschema it start to be action that will create Spark Job, because Spark need to loop throw all file to check datatypes for all columns and this can harm to your code(if we compare to parquet, it will also go to check data types, but parquet provide meta information, so Spark will not go throw all file, he will just read meta information, but csv don't provide such meta information). Also header make Spark to create one more Spark Job to check first line\n",
    "to define name of columns and remember to skeep it when reading. Actual reading start when you will use first action. More about Spark Jobs you will see in next topic"
   ]
  },
  {
   "cell_type": "markdown",
   "id": "underlying-assurance",
   "metadata": {},
   "source": [
    "write schema of scv on screen one more time and compare with previous"
   ]
  },
  {
   "cell_type": "code",
   "execution_count": 5,
   "id": "solid-infection",
   "metadata": {
    "tags": []
   },
   "outputs": [
    {
     "name": "stdout",
     "output_type": "stream",
     "text": [
      "root\n",
      " |-- employee_id: integer (nullable = true)\n",
      " |-- work_year: integer (nullable = true)\n",
      " |-- experience_level: string (nullable = true)\n",
      " |-- employment_type: string (nullable = true)\n",
      " |-- job_title: string (nullable = true)\n",
      " |-- salary: integer (nullable = true)\n",
      " |-- salary_currency: string (nullable = true)\n",
      " |-- salary_in_usd: integer (nullable = true)\n",
      " |-- employee_residence: string (nullable = true)\n",
      " |-- remote_ratio: integer (nullable = true)\n",
      " |-- company_location: string (nullable = true)\n",
      " |-- company_size: string (nullable = true)\n",
      "\n"
     ]
    }
   ],
   "source": [
    "ds_salaries.printSchema()"
   ]
  },
  {
   "cell_type": "markdown",
   "id": "close-water",
   "metadata": {},
   "source": [
    "now continue to work with one of the dataframes that you create"
   ]
  },
  {
   "cell_type": "markdown",
   "id": "piano-belgium",
   "metadata": {},
   "source": [
    "print data in dataframe using df.show"
   ]
  },
  {
   "cell_type": "code",
   "execution_count": 6,
   "id": "legendary-alarm",
   "metadata": {
    "tags": []
   },
   "outputs": [
    {
     "name": "stdout",
     "output_type": "stream",
     "text": [
      "+-----------+---------+----------------+---------------+--------------------+--------+---------------+-------------+------------------+------------+----------------+------------+\n",
      "|employee_id|work_year|experience_level|employment_type|           job_title|  salary|salary_currency|salary_in_usd|employee_residence|remote_ratio|company_location|company_size|\n",
      "+-----------+---------+----------------+---------------+--------------------+--------+---------------+-------------+------------------+------------+----------------+------------+\n",
      "|          0|     2020|              MI|             FT|      Data Scientist|   70000|            EUR|        79833|                DE|           0|              DE|           L|\n",
      "|          1|     2020|              SE|             FT|Machine Learning ...|  260000|            USD|       260000|                JP|           0|              JP|           S|\n",
      "|          2|     2020|              SE|             FT|   Big Data Engineer|   85000|            GBP|       109024|                GB|          50|              GB|           M|\n",
      "|          3|     2020|              MI|             FT|Product Data Analyst|   20000|            USD|        20000|                HN|           0|              HN|           S|\n",
      "|          4|     2020|              SE|             FT|Machine Learning ...|  150000|            USD|       150000|                US|          50|              US|           L|\n",
      "|          5|     2020|              EN|             FT|        Data Analyst|   72000|            USD|        72000|                US|         100|              US|           L|\n",
      "|          6|     2020|              SE|             FT| Lead Data Scientist|  190000|            USD|       190000|                US|         100|              US|           S|\n",
      "|          7|     2020|              MI|             FT|      Data Scientist|11000000|            HUF|        35735|                HU|          50|              HU|           L|\n",
      "|          8|     2020|              MI|             FT|Business Data Ana...|  135000|            USD|       135000|                US|         100|              US|           L|\n",
      "|          9|     2020|              SE|             FT|  Lead Data Engineer|  125000|            USD|       125000|                NZ|          50|              NZ|           S|\n",
      "|         10|     2020|              EN|             FT|      Data Scientist|   45000|            EUR|        51321|                FR|           0|              FR|           S|\n",
      "|         11|     2020|              MI|             FT|      Data Scientist| 3000000|            INR|        40481|                IN|           0|              IN|           L|\n",
      "|         12|     2020|              EN|             FT|      Data Scientist|   35000|            EUR|        39916|                FR|           0|              FR|           M|\n",
      "|         13|     2020|              MI|             FT|   Lead Data Analyst|   87000|            USD|        87000|                US|         100|              US|           L|\n",
      "|         14|     2020|              MI|             FT|        Data Analyst|   85000|            USD|        85000|                US|         100|              US|           L|\n",
      "|         15|     2020|              MI|             FT|        Data Analyst|    8000|            USD|         8000|                PK|          50|              PK|           L|\n",
      "|         16|     2020|              EN|             FT|       Data Engineer| 4450000|            JPY|        41689|                JP|         100|              JP|           S|\n",
      "|         17|     2020|              SE|             FT|   Big Data Engineer|  100000|            EUR|       114047|                PL|         100|              GB|           S|\n",
      "|         18|     2020|              EN|             FT|Data Science Cons...|  423000|            INR|         5707|                IN|          50|              IN|           M|\n",
      "|         19|     2020|              MI|             FT|  Lead Data Engineer|   56000|            USD|        56000|                PT|         100|              US|           M|\n",
      "+-----------+---------+----------------+---------------+--------------------+--------+---------------+-------------+------------------+------------+----------------+------------+\n",
      "only showing top 20 rows\n",
      "\n"
     ]
    }
   ],
   "source": [
    "ds_salaries.show()"
   ]
  },
  {
   "cell_type": "markdown",
   "id": "tamil-medium",
   "metadata": {},
   "source": [
    "print data in dataframe using display(df.toPandas())"
   ]
  },
  {
   "cell_type": "code",
   "execution_count": 7,
   "id": "connected-dryer",
   "metadata": {
    "tags": []
   },
   "outputs": [
    {
     "data": {
      "text/html": [
       "<div>\n",
       "<style scoped>\n",
       "    .dataframe tbody tr th:only-of-type {\n",
       "        vertical-align: middle;\n",
       "    }\n",
       "\n",
       "    .dataframe tbody tr th {\n",
       "        vertical-align: top;\n",
       "    }\n",
       "\n",
       "    .dataframe thead th {\n",
       "        text-align: right;\n",
       "    }\n",
       "</style>\n",
       "<table border=\"1\" class=\"dataframe\">\n",
       "  <thead>\n",
       "    <tr style=\"text-align: right;\">\n",
       "      <th></th>\n",
       "      <th>employee_id</th>\n",
       "      <th>work_year</th>\n",
       "      <th>experience_level</th>\n",
       "      <th>employment_type</th>\n",
       "      <th>job_title</th>\n",
       "      <th>salary</th>\n",
       "      <th>salary_currency</th>\n",
       "      <th>salary_in_usd</th>\n",
       "      <th>employee_residence</th>\n",
       "      <th>remote_ratio</th>\n",
       "      <th>company_location</th>\n",
       "      <th>company_size</th>\n",
       "    </tr>\n",
       "  </thead>\n",
       "  <tbody>\n",
       "    <tr>\n",
       "      <th>0</th>\n",
       "      <td>0</td>\n",
       "      <td>2020</td>\n",
       "      <td>MI</td>\n",
       "      <td>FT</td>\n",
       "      <td>Data Scientist</td>\n",
       "      <td>70000</td>\n",
       "      <td>EUR</td>\n",
       "      <td>79833</td>\n",
       "      <td>DE</td>\n",
       "      <td>0</td>\n",
       "      <td>DE</td>\n",
       "      <td>L</td>\n",
       "    </tr>\n",
       "    <tr>\n",
       "      <th>1</th>\n",
       "      <td>1</td>\n",
       "      <td>2020</td>\n",
       "      <td>SE</td>\n",
       "      <td>FT</td>\n",
       "      <td>Machine Learning Scientist</td>\n",
       "      <td>260000</td>\n",
       "      <td>USD</td>\n",
       "      <td>260000</td>\n",
       "      <td>JP</td>\n",
       "      <td>0</td>\n",
       "      <td>JP</td>\n",
       "      <td>S</td>\n",
       "    </tr>\n",
       "    <tr>\n",
       "      <th>2</th>\n",
       "      <td>2</td>\n",
       "      <td>2020</td>\n",
       "      <td>SE</td>\n",
       "      <td>FT</td>\n",
       "      <td>Big Data Engineer</td>\n",
       "      <td>85000</td>\n",
       "      <td>GBP</td>\n",
       "      <td>109024</td>\n",
       "      <td>GB</td>\n",
       "      <td>50</td>\n",
       "      <td>GB</td>\n",
       "      <td>M</td>\n",
       "    </tr>\n",
       "    <tr>\n",
       "      <th>3</th>\n",
       "      <td>3</td>\n",
       "      <td>2020</td>\n",
       "      <td>MI</td>\n",
       "      <td>FT</td>\n",
       "      <td>Product Data Analyst</td>\n",
       "      <td>20000</td>\n",
       "      <td>USD</td>\n",
       "      <td>20000</td>\n",
       "      <td>HN</td>\n",
       "      <td>0</td>\n",
       "      <td>HN</td>\n",
       "      <td>S</td>\n",
       "    </tr>\n",
       "    <tr>\n",
       "      <th>4</th>\n",
       "      <td>4</td>\n",
       "      <td>2020</td>\n",
       "      <td>SE</td>\n",
       "      <td>FT</td>\n",
       "      <td>Machine Learning Engineer</td>\n",
       "      <td>150000</td>\n",
       "      <td>USD</td>\n",
       "      <td>150000</td>\n",
       "      <td>US</td>\n",
       "      <td>50</td>\n",
       "      <td>US</td>\n",
       "      <td>L</td>\n",
       "    </tr>\n",
       "    <tr>\n",
       "      <th>...</th>\n",
       "      <td>...</td>\n",
       "      <td>...</td>\n",
       "      <td>...</td>\n",
       "      <td>...</td>\n",
       "      <td>...</td>\n",
       "      <td>...</td>\n",
       "      <td>...</td>\n",
       "      <td>...</td>\n",
       "      <td>...</td>\n",
       "      <td>...</td>\n",
       "      <td>...</td>\n",
       "      <td>...</td>\n",
       "    </tr>\n",
       "    <tr>\n",
       "      <th>602</th>\n",
       "      <td>602</td>\n",
       "      <td>2022</td>\n",
       "      <td>SE</td>\n",
       "      <td>FT</td>\n",
       "      <td>Data Engineer</td>\n",
       "      <td>154000</td>\n",
       "      <td>USD</td>\n",
       "      <td>154000</td>\n",
       "      <td>US</td>\n",
       "      <td>100</td>\n",
       "      <td>US</td>\n",
       "      <td>M</td>\n",
       "    </tr>\n",
       "    <tr>\n",
       "      <th>603</th>\n",
       "      <td>603</td>\n",
       "      <td>2022</td>\n",
       "      <td>SE</td>\n",
       "      <td>FT</td>\n",
       "      <td>Data Engineer</td>\n",
       "      <td>126000</td>\n",
       "      <td>USD</td>\n",
       "      <td>126000</td>\n",
       "      <td>US</td>\n",
       "      <td>100</td>\n",
       "      <td>US</td>\n",
       "      <td>M</td>\n",
       "    </tr>\n",
       "    <tr>\n",
       "      <th>604</th>\n",
       "      <td>604</td>\n",
       "      <td>2022</td>\n",
       "      <td>SE</td>\n",
       "      <td>FT</td>\n",
       "      <td>Data Analyst</td>\n",
       "      <td>129000</td>\n",
       "      <td>USD</td>\n",
       "      <td>129000</td>\n",
       "      <td>US</td>\n",
       "      <td>0</td>\n",
       "      <td>US</td>\n",
       "      <td>M</td>\n",
       "    </tr>\n",
       "    <tr>\n",
       "      <th>605</th>\n",
       "      <td>605</td>\n",
       "      <td>2022</td>\n",
       "      <td>SE</td>\n",
       "      <td>FT</td>\n",
       "      <td>Data Analyst</td>\n",
       "      <td>150000</td>\n",
       "      <td>USD</td>\n",
       "      <td>150000</td>\n",
       "      <td>US</td>\n",
       "      <td>100</td>\n",
       "      <td>US</td>\n",
       "      <td>M</td>\n",
       "    </tr>\n",
       "    <tr>\n",
       "      <th>606</th>\n",
       "      <td>606</td>\n",
       "      <td>2022</td>\n",
       "      <td>MI</td>\n",
       "      <td>FT</td>\n",
       "      <td>AI Scientist</td>\n",
       "      <td>200000</td>\n",
       "      <td>USD</td>\n",
       "      <td>200000</td>\n",
       "      <td>IN</td>\n",
       "      <td>100</td>\n",
       "      <td>US</td>\n",
       "      <td>L</td>\n",
       "    </tr>\n",
       "  </tbody>\n",
       "</table>\n",
       "<p>607 rows × 12 columns</p>\n",
       "</div>"
      ],
      "text/plain": [
       "     employee_id  work_year experience_level employment_type  \\\n",
       "0              0       2020               MI              FT   \n",
       "1              1       2020               SE              FT   \n",
       "2              2       2020               SE              FT   \n",
       "3              3       2020               MI              FT   \n",
       "4              4       2020               SE              FT   \n",
       "..           ...        ...              ...             ...   \n",
       "602          602       2022               SE              FT   \n",
       "603          603       2022               SE              FT   \n",
       "604          604       2022               SE              FT   \n",
       "605          605       2022               SE              FT   \n",
       "606          606       2022               MI              FT   \n",
       "\n",
       "                      job_title  salary salary_currency  salary_in_usd  \\\n",
       "0                Data Scientist   70000             EUR          79833   \n",
       "1    Machine Learning Scientist  260000             USD         260000   \n",
       "2             Big Data Engineer   85000             GBP         109024   \n",
       "3          Product Data Analyst   20000             USD          20000   \n",
       "4     Machine Learning Engineer  150000             USD         150000   \n",
       "..                          ...     ...             ...            ...   \n",
       "602               Data Engineer  154000             USD         154000   \n",
       "603               Data Engineer  126000             USD         126000   \n",
       "604                Data Analyst  129000             USD         129000   \n",
       "605                Data Analyst  150000             USD         150000   \n",
       "606                AI Scientist  200000             USD         200000   \n",
       "\n",
       "    employee_residence  remote_ratio company_location company_size  \n",
       "0                   DE             0               DE            L  \n",
       "1                   JP             0               JP            S  \n",
       "2                   GB            50               GB            M  \n",
       "3                   HN             0               HN            S  \n",
       "4                   US            50               US            L  \n",
       "..                 ...           ...              ...          ...  \n",
       "602                 US           100               US            M  \n",
       "603                 US           100               US            M  \n",
       "604                 US             0               US            M  \n",
       "605                 US           100               US            M  \n",
       "606                 IN           100               US            L  \n",
       "\n",
       "[607 rows x 12 columns]"
      ]
     },
     "metadata": {},
     "output_type": "display_data"
    }
   ],
   "source": [
    "display(ds_salaries.toPandas())"
   ]
  },
  {
   "cell_type": "markdown",
   "id": "opponent-gazette",
   "metadata": {},
   "source": [
    "create df_job_title that consists from all job_titles without duplicates"
   ]
  },
  {
   "cell_type": "code",
   "execution_count": 8,
   "id": "friendly-cartridge",
   "metadata": {
    "tags": []
   },
   "outputs": [
    {
     "name": "stdout",
     "output_type": "stream",
     "text": [
      "+--------------------+\n",
      "|           job_title|\n",
      "+--------------------+\n",
      "|3D Computer Visio...|\n",
      "|  Lead Data Engineer|\n",
      "|Head of Machine L...|\n",
      "|     Data Specialist|\n",
      "| Data Analytics Lead|\n",
      "|Machine Learning ...|\n",
      "|   Lead Data Analyst|\n",
      "|Data Engineering ...|\n",
      "|Staff Data Scientist|\n",
      "|       ETL Developer|\n",
      "|Director of Data ...|\n",
      "|Product Data Analyst|\n",
      "|Principal Data Sc...|\n",
      "|        AI Scientist|\n",
      "|Director of Data ...|\n",
      "|Machine Learning ...|\n",
      "| Lead Data Scientist|\n",
      "|Machine Learning ...|\n",
      "|Data Science Engi...|\n",
      "|Machine Learning ...|\n",
      "+--------------------+\n",
      "only showing top 20 rows\n",
      "\n"
     ]
    }
   ],
   "source": [
    "df_job_title = ds_salaries.select('job_title').distinct()\n",
    "df_job_title.show()"
   ]
  },
  {
   "cell_type": "markdown",
   "id": "offshore-architecture",
   "metadata": {},
   "source": [
    "print all rows from df_job_titles without truncating jobs"
   ]
  },
  {
   "cell_type": "code",
   "execution_count": 9,
   "id": "asian-edition",
   "metadata": {
    "tags": []
   },
   "outputs": [
    {
     "name": "stdout",
     "output_type": "stream",
     "text": [
      "+----------------------------------------+\n",
      "|job_title                               |\n",
      "+----------------------------------------+\n",
      "|3D Computer Vision Researcher           |\n",
      "|Lead Data Engineer                      |\n",
      "|Head of Machine Learning                |\n",
      "|Data Specialist                         |\n",
      "|Data Analytics Lead                     |\n",
      "|Machine Learning Scientist              |\n",
      "|Lead Data Analyst                       |\n",
      "|Data Engineering Manager                |\n",
      "|Staff Data Scientist                    |\n",
      "|ETL Developer                           |\n",
      "|Director of Data Engineering            |\n",
      "|Product Data Analyst                    |\n",
      "|Principal Data Scientist                |\n",
      "|AI Scientist                            |\n",
      "|Director of Data Science                |\n",
      "|Machine Learning Engineer               |\n",
      "|Lead Data Scientist                     |\n",
      "|Machine Learning Infrastructure Engineer|\n",
      "|Data Science Engineer                   |\n",
      "|Machine Learning Manager                |\n",
      "|Research Scientist                      |\n",
      "|Head of Data                            |\n",
      "|Cloud Data Engineer                     |\n",
      "|Machine Learning Developer              |\n",
      "|Data Scientist                          |\n",
      "|Finance Data Analyst                    |\n",
      "|Data Analyst                            |\n",
      "|Data Analytics Engineer                 |\n",
      "|Data Science Consultant                 |\n",
      "|Principal Data Engineer                 |\n",
      "|Lead Machine Learning Engineer          |\n",
      "|ML Engineer                             |\n",
      "|Analytics Engineer                      |\n",
      "|Data Science Manager                    |\n",
      "|Business Data Analyst                   |\n",
      "|Principal Data Analyst                  |\n",
      "|Applied Machine Learning Scientist      |\n",
      "|Financial Data Analyst                  |\n",
      "|Data Analytics Manager                  |\n",
      "|Computer Vision Engineer                |\n",
      "|Computer Vision Software Engineer       |\n",
      "|Big Data Engineer                       |\n",
      "|Head of Data Science                    |\n",
      "|NLP Engineer                            |\n",
      "|Big Data Architect                      |\n",
      "|Applied Data Scientist                  |\n",
      "|Data Architect                          |\n",
      "|BI Data Analyst                         |\n",
      "|Marketing Data Analyst                  |\n",
      "|Data Engineer                           |\n",
      "+----------------------------------------+\n",
      "\n"
     ]
    }
   ],
   "source": [
    "df_job_title.show(df_job_title.count(), truncate=False)"
   ]
  },
  {
   "cell_type": "markdown",
   "id": "interim-pharmacy",
   "metadata": {},
   "source": [
    "create  df_analytic that will consists from max, avg, min USD salaries for all job_titles using groupBy. name of fields is avg_salary, min_salary, max_salary"
   ]
  },
  {
   "cell_type": "code",
   "execution_count": 10,
   "id": "naval-roller",
   "metadata": {
    "tags": []
   },
   "outputs": [],
   "source": [
    "df_analytic = ds_salaries.filter(ds_salaries.salary_currency == 'USD') \\\n",
    "                         .groupBy('job_title') \\\n",
    "                         .agg(avg('salary_in_usd').alias('avg_salary'), \n",
    "                              min('salary_in_usd').alias('min_salary'), \n",
    "                              max('salary_in_usd').alias('max_salary'))\n"
   ]
  },
  {
   "cell_type": "markdown",
   "id": "french-pledge",
   "metadata": {},
   "source": [
    "print all rows from df_analytic without trancating jobs"
   ]
  },
  {
   "cell_type": "code",
   "execution_count": 11,
   "id": "bacterial-depression",
   "metadata": {
    "tags": []
   },
   "outputs": [
    {
     "name": "stdout",
     "output_type": "stream",
     "text": [
      "+----------------------------------------+------------------+----------+----------+\n",
      "|job_title                               |avg_salary        |min_salary|max_salary|\n",
      "+----------------------------------------+------------------+----------+----------+\n",
      "|Lead Data Engineer                      |154250.0          |56000     |276000    |\n",
      "|Data Specialist                         |165000.0          |165000    |165000    |\n",
      "|Data Analytics Lead                     |405000.0          |405000    |405000    |\n",
      "|Machine Learning Scientist              |158412.5          |12000     |260000    |\n",
      "|Lead Data Analyst                       |128500.0          |87000     |170000    |\n",
      "|Data Engineering Manager                |159000.0          |150000    |174000    |\n",
      "|Staff Data Scientist                    |105000.0          |105000    |105000    |\n",
      "|Director of Data Engineering            |200000.0          |200000    |200000    |\n",
      "|Product Data Analyst                    |20000.0           |20000     |20000     |\n",
      "|Principal Data Scientist                |255500.0          |151000    |416000    |\n",
      "|AI Scientist                            |79800.0           |12000     |200000    |\n",
      "|Director of Data Science                |247666.66666666666|168000    |325000    |\n",
      "|Machine Learning Engineer               |140488.0          |20000     |250000    |\n",
      "|Lead Data Scientist                     |152500.0          |115000    |190000    |\n",
      "|Machine Learning Infrastructure Engineer|195000.0          |195000    |195000    |\n",
      "|Data Science Engineer                   |60000.0           |60000     |60000     |\n",
      "|Research Scientist                      |139428.42857142858|42000     |450000    |\n",
      "|Head of Data                            |221666.66666666666|200000    |235000    |\n",
      "|Cloud Data Engineer                     |160000.0          |160000    |160000    |\n",
      "|Machine Learning Developer              |100000.0          |100000    |100000    |\n",
      "|Data Scientist                          |139712.75862068965|4000      |412000    |\n",
      "|Data Analyst                            |101761.76829268293|8000      |200000    |\n",
      "|Data Analytics Engineer                 |60000.0           |20000     |110000    |\n",
      "|Data Science Consultant                 |96500.0           |90000     |103000    |\n",
      "|Principal Data Engineer                 |328333.3333333333 |185000    |600000    |\n",
      "|ML Engineer                             |263000.0          |256000    |270000    |\n",
      "|Analytics Engineer                      |175000.0          |135000    |205300    |\n",
      "|Data Science Manager                    |175118.3          |137141    |241000    |\n",
      "|Business Data Analyst                   |117500.0          |100000    |135000    |\n",
      "|Principal Data Analyst                  |122500.0          |75000     |170000    |\n",
      "|Applied Machine Learning Scientist      |178800.0          |38400     |423000    |\n",
      "|Financial Data Analyst                  |275000.0          |100000    |450000    |\n",
      "|Data Analytics Manager                  |127134.28571428571|105400    |150260    |\n",
      "|Computer Vision Engineer                |54750.0           |10000     |125000    |\n",
      "|Computer Vision Software Engineer       |110000.0          |70000     |150000    |\n",
      "|Big Data Engineer                       |49333.333333333336|18000     |70000     |\n",
      "|Head of Data Science                    |146718.75         |85000     |224000    |\n",
      "|Applied Data Scientist                  |238000.0          |157000    |380000    |\n",
      "|Data Architect                          |177873.9090909091 |90700     |266400    |\n",
      "|BI Data Analyst                         |82454.4           |9272      |150000    |\n",
      "|Data Engineer                           |139465.8          |4000      |324000    |\n",
      "+----------------------------------------+------------------+----------+----------+\n",
      "\n"
     ]
    }
   ],
   "source": [
    "df_analytic.show(df_analytic.count(), truncate=False)"
   ]
  },
  {
   "cell_type": "markdown",
   "id": "hazardous-color",
   "metadata": {},
   "source": [
    "now you need to add in df_analytic column row_id, that will show order of all job_titles depending on avg salary. they should be descending"
   ]
  },
  {
   "cell_type": "code",
   "execution_count": 12,
   "id": "nearby-treasurer",
   "metadata": {
    "tags": []
   },
   "outputs": [],
   "source": [
    "windowSpec = Window.orderBy(F.desc(\"avg_salary\"))\n",
    "\n",
    "df_analytic = df_analytic.withColumn(\"row_id\", F.rank().over(windowSpec))"
   ]
  },
  {
   "cell_type": "markdown",
   "id": "documented-catalog",
   "metadata": {},
   "source": [
    "print all data from df_analytic"
   ]
  },
  {
   "cell_type": "code",
   "execution_count": 13,
   "id": "confirmed-monitoring",
   "metadata": {
    "tags": []
   },
   "outputs": [
    {
     "name": "stdout",
     "output_type": "stream",
     "text": [
      "+----------------------------------------+------------------+----------+----------+------+\n",
      "|job_title                               |avg_salary        |min_salary|max_salary|row_id|\n",
      "+----------------------------------------+------------------+----------+----------+------+\n",
      "|Data Analytics Lead                     |405000.0          |405000    |405000    |1     |\n",
      "|Principal Data Engineer                 |328333.3333333333 |185000    |600000    |2     |\n",
      "|Financial Data Analyst                  |275000.0          |100000    |450000    |3     |\n",
      "|ML Engineer                             |263000.0          |256000    |270000    |4     |\n",
      "|Principal Data Scientist                |255500.0          |151000    |416000    |5     |\n",
      "|Director of Data Science                |247666.66666666666|168000    |325000    |6     |\n",
      "|Applied Data Scientist                  |238000.0          |157000    |380000    |7     |\n",
      "|Head of Data                            |221666.66666666666|200000    |235000    |8     |\n",
      "|Director of Data Engineering            |200000.0          |200000    |200000    |9     |\n",
      "|Machine Learning Infrastructure Engineer|195000.0          |195000    |195000    |10    |\n",
      "|Applied Machine Learning Scientist      |178800.0          |38400     |423000    |11    |\n",
      "|Data Architect                          |177873.9090909091 |90700     |266400    |12    |\n",
      "|Data Science Manager                    |175118.3          |137141    |241000    |13    |\n",
      "|Analytics Engineer                      |175000.0          |135000    |205300    |14    |\n",
      "|Data Specialist                         |165000.0          |165000    |165000    |15    |\n",
      "|Cloud Data Engineer                     |160000.0          |160000    |160000    |16    |\n",
      "|Data Engineering Manager                |159000.0          |150000    |174000    |17    |\n",
      "|Machine Learning Scientist              |158412.5          |12000     |260000    |18    |\n",
      "|Lead Data Engineer                      |154250.0          |56000     |276000    |19    |\n",
      "|Lead Data Scientist                     |152500.0          |115000    |190000    |20    |\n",
      "|Head of Data Science                    |146718.75         |85000     |224000    |21    |\n",
      "|Machine Learning Engineer               |140488.0          |20000     |250000    |22    |\n",
      "|Data Scientist                          |139712.75862068965|4000      |412000    |23    |\n",
      "|Data Engineer                           |139465.8          |4000      |324000    |24    |\n",
      "|Research Scientist                      |139428.42857142858|42000     |450000    |25    |\n",
      "|Lead Data Analyst                       |128500.0          |87000     |170000    |26    |\n",
      "|Data Analytics Manager                  |127134.28571428571|105400    |150260    |27    |\n",
      "|Principal Data Analyst                  |122500.0          |75000     |170000    |28    |\n",
      "|Business Data Analyst                   |117500.0          |100000    |135000    |29    |\n",
      "|Computer Vision Software Engineer       |110000.0          |70000     |150000    |30    |\n",
      "|Staff Data Scientist                    |105000.0          |105000    |105000    |31    |\n",
      "|Data Analyst                            |101761.76829268293|8000      |200000    |32    |\n",
      "|Machine Learning Developer              |100000.0          |100000    |100000    |33    |\n",
      "|Data Science Consultant                 |96500.0           |90000     |103000    |34    |\n",
      "|BI Data Analyst                         |82454.4           |9272      |150000    |35    |\n",
      "|AI Scientist                            |79800.0           |12000     |200000    |36    |\n",
      "|Data Science Engineer                   |60000.0           |60000     |60000     |37    |\n",
      "|Data Analytics Engineer                 |60000.0           |20000     |110000    |37    |\n",
      "|Computer Vision Engineer                |54750.0           |10000     |125000    |39    |\n",
      "|Big Data Engineer                       |49333.333333333336|18000     |70000     |40    |\n",
      "|Product Data Analyst                    |20000.0           |20000     |20000     |41    |\n",
      "+----------------------------------------+------------------+----------+----------+------+\n",
      "\n"
     ]
    }
   ],
   "source": [
    "df_analytic.show(df_analytic.count(), truncate=False)"
   ]
  },
  {
   "cell_type": "markdown",
   "id": "satellite-quarter",
   "metadata": {},
   "source": [
    "it isn't beautifull, so we need to put now row_id on first place in df_analytic"
   ]
  },
  {
   "cell_type": "code",
   "execution_count": 14,
   "id": "ranging-tribune",
   "metadata": {
    "tags": []
   },
   "outputs": [],
   "source": [
    "df_analytic = df_analytic.select(\"row_id\", \"job_title\", \"avg_salary\", \"min_salary\", \"max_salary\")"
   ]
  },
  {
   "cell_type": "markdown",
   "id": "reliable-amsterdam",
   "metadata": {},
   "source": [
    "print df_analytic now"
   ]
  },
  {
   "cell_type": "code",
   "execution_count": 15,
   "id": "classical-biology",
   "metadata": {
    "tags": []
   },
   "outputs": [
    {
     "name": "stdout",
     "output_type": "stream",
     "text": [
      "+------+----------------------------------------+------------------+----------+----------+\n",
      "|row_id|job_title                               |avg_salary        |min_salary|max_salary|\n",
      "+------+----------------------------------------+------------------+----------+----------+\n",
      "|1     |Data Analytics Lead                     |405000.0          |405000    |405000    |\n",
      "|2     |Principal Data Engineer                 |328333.3333333333 |185000    |600000    |\n",
      "|3     |Financial Data Analyst                  |275000.0          |100000    |450000    |\n",
      "|4     |ML Engineer                             |263000.0          |256000    |270000    |\n",
      "|5     |Principal Data Scientist                |255500.0          |151000    |416000    |\n",
      "|6     |Director of Data Science                |247666.66666666666|168000    |325000    |\n",
      "|7     |Applied Data Scientist                  |238000.0          |157000    |380000    |\n",
      "|8     |Head of Data                            |221666.66666666666|200000    |235000    |\n",
      "|9     |Director of Data Engineering            |200000.0          |200000    |200000    |\n",
      "|10    |Machine Learning Infrastructure Engineer|195000.0          |195000    |195000    |\n",
      "|11    |Applied Machine Learning Scientist      |178800.0          |38400     |423000    |\n",
      "|12    |Data Architect                          |177873.9090909091 |90700     |266400    |\n",
      "|13    |Data Science Manager                    |175118.3          |137141    |241000    |\n",
      "|14    |Analytics Engineer                      |175000.0          |135000    |205300    |\n",
      "|15    |Data Specialist                         |165000.0          |165000    |165000    |\n",
      "|16    |Cloud Data Engineer                     |160000.0          |160000    |160000    |\n",
      "|17    |Data Engineering Manager                |159000.0          |150000    |174000    |\n",
      "|18    |Machine Learning Scientist              |158412.5          |12000     |260000    |\n",
      "|19    |Lead Data Engineer                      |154250.0          |56000     |276000    |\n",
      "|20    |Lead Data Scientist                     |152500.0          |115000    |190000    |\n",
      "|21    |Head of Data Science                    |146718.75         |85000     |224000    |\n",
      "|22    |Machine Learning Engineer               |140488.0          |20000     |250000    |\n",
      "|23    |Data Scientist                          |139712.75862068965|4000      |412000    |\n",
      "|24    |Data Engineer                           |139465.8          |4000      |324000    |\n",
      "|25    |Research Scientist                      |139428.42857142858|42000     |450000    |\n",
      "|26    |Lead Data Analyst                       |128500.0          |87000     |170000    |\n",
      "|27    |Data Analytics Manager                  |127134.28571428571|105400    |150260    |\n",
      "|28    |Principal Data Analyst                  |122500.0          |75000     |170000    |\n",
      "|29    |Business Data Analyst                   |117500.0          |100000    |135000    |\n",
      "|30    |Computer Vision Software Engineer       |110000.0          |70000     |150000    |\n",
      "|31    |Staff Data Scientist                    |105000.0          |105000    |105000    |\n",
      "|32    |Data Analyst                            |101761.76829268293|8000      |200000    |\n",
      "|33    |Machine Learning Developer              |100000.0          |100000    |100000    |\n",
      "|34    |Data Science Consultant                 |96500.0           |90000     |103000    |\n",
      "|35    |BI Data Analyst                         |82454.4           |9272      |150000    |\n",
      "|36    |AI Scientist                            |79800.0           |12000     |200000    |\n",
      "|37    |Data Science Engineer                   |60000.0           |60000     |60000     |\n",
      "|37    |Data Analytics Engineer                 |60000.0           |20000     |110000    |\n",
      "|39    |Computer Vision Engineer                |54750.0           |10000     |125000    |\n",
      "|40    |Big Data Engineer                       |49333.333333333336|18000     |70000     |\n",
      "|41    |Product Data Analyst                    |20000.0           |20000     |20000     |\n",
      "+------+----------------------------------------+------------------+----------+----------+\n",
      "\n"
     ]
    }
   ],
   "source": [
    "df_analytic.show(df_analytic.count(), truncate=False)"
   ]
  },
  {
   "cell_type": "markdown",
   "id": "hybrid-queensland",
   "metadata": {},
   "source": [
    "here you need to create df_exp_lvl with the biggest usd_salary(biggest_salary) for each experience_level(you need to save all fields like in entire dataframe)"
   ]
  },
  {
   "cell_type": "code",
   "execution_count": 16,
   "id": "dental-wrist",
   "metadata": {
    "tags": []
   },
   "outputs": [],
   "source": [
    "df_exp_lvl = ds_salaries.filter(ds_salaries.salary_currency == 'USD') \\\n",
    "                         .groupBy('experience_level') \\\n",
    "                         .agg(max('salary_in_usd').alias('biggest_salary'))"
   ]
  },
  {
   "cell_type": "markdown",
   "id": "innovative-hierarchy",
   "metadata": {},
   "source": [
    "print here df_exp_lvl"
   ]
  },
  {
   "cell_type": "code",
   "execution_count": 17,
   "id": "standing-toilet",
   "metadata": {
    "tags": []
   },
   "outputs": [
    {
     "name": "stdout",
     "output_type": "stream",
     "text": [
      "+----------------+--------------+\n",
      "|experience_level|biggest_salary|\n",
      "+----------------+--------------+\n",
      "|              EX|        600000|\n",
      "|              MI|        450000|\n",
      "|              EN|        250000|\n",
      "|              SE|        412000|\n",
      "+----------------+--------------+\n",
      "\n"
     ]
    }
   ],
   "source": [
    "df_exp_lvl.show()"
   ]
  },
  {
   "cell_type": "markdown",
   "id": "hawaiian-mortgage",
   "metadata": {},
   "source": [
    "create df_best that consists from rows where salary of guy same as biggest salary for other people in his exp_lvl and choose only columns: id, experience_level, biggest_salary, employee_residence"
   ]
  },
  {
   "cell_type": "code",
   "execution_count": 18,
   "id": "toxic-prompt",
   "metadata": {
    "tags": []
   },
   "outputs": [],
   "source": [
    "ds_salaries = ds_salaries.alias(\"ds_salaries\")\n",
    "df_exp_lvl = df_exp_lvl.alias(\"df_exp_lvl\")\n",
    "\n",
    "df_best = ds_salaries.join(df_exp_lvl, col(\"salary_in_usd\") == col(\"biggest_salary\"), \"inner\") \\\n",
    "                     .select(ds_salaries.employee_id.alias('id')\n",
    "                             , ds_salaries.experience_level\n",
    "                             , df_exp_lvl.biggest_salary\n",
    "                             , ds_salaries.employee_residence)"
   ]
  },
  {
   "cell_type": "markdown",
   "id": "complex-librarian",
   "metadata": {},
   "source": [
    "print df_best"
   ]
  },
  {
   "cell_type": "code",
   "execution_count": 19,
   "id": "smart-texas",
   "metadata": {
    "tags": []
   },
   "outputs": [
    {
     "name": "stdout",
     "output_type": "stream",
     "text": [
      "+---+----------------+--------------+------------------+\n",
      "| id|experience_level|biggest_salary|employee_residence|\n",
      "+---+----------------+--------------+------------------+\n",
      "| 33|              MI|        450000|                US|\n",
      "| 37|              EN|        250000|                US|\n",
      "| 63|              SE|        412000|                US|\n",
      "| 97|              MI|        450000|                US|\n",
      "|167|              EX|        250000|                US|\n",
      "|252|              EX|        600000|                US|\n",
      "+---+----------------+--------------+------------------+\n",
      "\n"
     ]
    }
   ],
   "source": [
    "df_best.show()"
   ]
  },
  {
   "cell_type": "markdown",
   "id": "integral-brass",
   "metadata": {},
   "source": [
    "drop duplicates if exist by experience_level"
   ]
  },
  {
   "cell_type": "code",
   "execution_count": 20,
   "id": "immune-marine",
   "metadata": {
    "tags": []
   },
   "outputs": [],
   "source": [
    "df_best = df_best.dropDuplicates([\"experience_level\"])"
   ]
  },
  {
   "cell_type": "markdown",
   "id": "connected-credit",
   "metadata": {},
   "source": [
    "print df_best"
   ]
  },
  {
   "cell_type": "code",
   "execution_count": 21,
   "id": "specified-wellington",
   "metadata": {
    "tags": []
   },
   "outputs": [
    {
     "name": "stdout",
     "output_type": "stream",
     "text": [
      "+---+----------------+--------------+------------------+\n",
      "| id|experience_level|biggest_salary|employee_residence|\n",
      "+---+----------------+--------------+------------------+\n",
      "| 37|              EN|        250000|                US|\n",
      "|167|              EX|        250000|                US|\n",
      "| 33|              MI|        450000|                US|\n",
      "| 63|              SE|        412000|                US|\n",
      "+---+----------------+--------------+------------------+\n",
      "\n"
     ]
    }
   ],
   "source": [
    "df_best.show()"
   ]
  },
  {
   "cell_type": "markdown",
   "id": "facial-plant",
   "metadata": {},
   "source": [
    "create df_new_best from df_best without id, and make the next: when exp_level = MI we want middle, when SE we want senior, else Null"
   ]
  },
  {
   "cell_type": "code",
   "execution_count": 22,
   "id": "infinite-retail",
   "metadata": {
    "tags": []
   },
   "outputs": [],
   "source": [
    "df_new_best = df_best.drop('id')\n",
    "\n",
    "df_new_best = df_new_best.withColumn(\n",
    "    'experience_level',\n",
    "    when(col('experience_level') == 'MI', 'middle')\n",
    "    .when(col('experience_level') == 'SE', 'senior')\n",
    "    .otherwise(None)\n",
    ")"
   ]
  },
  {
   "cell_type": "markdown",
   "id": "changing-fairy",
   "metadata": {},
   "source": [
    "print df_new_best"
   ]
  },
  {
   "cell_type": "code",
   "execution_count": 23,
   "id": "endless-framework",
   "metadata": {
    "tags": []
   },
   "outputs": [
    {
     "name": "stdout",
     "output_type": "stream",
     "text": [
      "+----------------+--------------+------------------+\n",
      "|experience_level|biggest_salary|employee_residence|\n",
      "+----------------+--------------+------------------+\n",
      "|            null|        250000|                US|\n",
      "|            null|        250000|                US|\n",
      "|          middle|        450000|                US|\n",
      "|          senior|        412000|                US|\n",
      "+----------------+--------------+------------------+\n",
      "\n"
     ]
    }
   ],
   "source": [
    "df_new_best.show()"
   ]
  },
  {
   "cell_type": "markdown",
   "id": "mineral-status",
   "metadata": {},
   "source": [
    "write df_new_best like 1.csv and load then it to df_final"
   ]
  },
  {
   "cell_type": "code",
   "execution_count": 24,
   "id": "baking-progress",
   "metadata": {
    "tags": []
   },
   "outputs": [],
   "source": [
    "df_new_best.write.csv('1.csv', header=True)\n",
    "\n",
    "df_final = spark.read.csv('1.csv', header=True)"
   ]
  },
  {
   "cell_type": "markdown",
   "id": "vocal-shooting",
   "metadata": {},
   "source": [
    "print df_final"
   ]
  },
  {
   "cell_type": "code",
   "execution_count": 25,
   "id": "expired-viewer",
   "metadata": {
    "tags": []
   },
   "outputs": [
    {
     "name": "stdout",
     "output_type": "stream",
     "text": [
      "+----------------+--------------+------------------+\n",
      "|experience_level|biggest_salary|employee_residence|\n",
      "+----------------+--------------+------------------+\n",
      "|            null|        250000|                US|\n",
      "|            null|        250000|                US|\n",
      "|          middle|        450000|                US|\n",
      "|          senior|        412000|                US|\n",
      "+----------------+--------------+------------------+\n",
      "\n"
     ]
    }
   ],
   "source": [
    "df_final.show()"
   ]
  },
  {
   "cell_type": "markdown",
   "id": "nutritional-progress",
   "metadata": {},
   "source": [
    "filter df_final to delete experience_level where it Null, then join this table by biggest_salary(salary_in_usd) and employee_residence with entire df"
   ]
  },
  {
   "cell_type": "code",
   "execution_count": 26,
   "id": "small-polymer",
   "metadata": {
    "tags": []
   },
   "outputs": [],
   "source": [
    "df_final_filtered = df_final.filter(df_final.experience_level.isNotNull())\n",
    "\n",
    "df_final = ds_salaries.join(\n",
    "    df_final_filtered,\n",
    "    col('biggest_salary') == col('salary_in_usd'),\n",
    "    'inner'\n",
    ")"
   ]
  },
  {
   "cell_type": "markdown",
   "id": "variable-twins",
   "metadata": {},
   "source": [
    "print df_final"
   ]
  },
  {
   "cell_type": "code",
   "execution_count": 27,
   "id": "generic-block",
   "metadata": {
    "tags": []
   },
   "outputs": [
    {
     "name": "stdout",
     "output_type": "stream",
     "text": [
      "-RECORD 0----------------------------------\n",
      " employee_id        | 33                   \n",
      " work_year          | 2020                 \n",
      " experience_level   | MI                   \n",
      " employment_type    | FT                   \n",
      " job_title          | Research Scientist   \n",
      " salary             | 450000               \n",
      " salary_currency    | USD                  \n",
      " salary_in_usd      | 450000               \n",
      " employee_residence | US                   \n",
      " remote_ratio       | 0                    \n",
      " company_location   | US                   \n",
      " company_size       | M                    \n",
      " experience_level   | middle               \n",
      " biggest_salary     | 450000               \n",
      " employee_residence | US                   \n",
      "-RECORD 1----------------------------------\n",
      " employee_id        | 63                   \n",
      " work_year          | 2020                 \n",
      " experience_level   | SE                   \n",
      " employment_type    | FT                   \n",
      " job_title          | Data Scientist       \n",
      " salary             | 412000               \n",
      " salary_currency    | USD                  \n",
      " salary_in_usd      | 412000               \n",
      " employee_residence | US                   \n",
      " remote_ratio       | 100                  \n",
      " company_location   | US                   \n",
      " company_size       | L                    \n",
      " experience_level   | senior               \n",
      " biggest_salary     | 412000               \n",
      " employee_residence | US                   \n",
      "-RECORD 2----------------------------------\n",
      " employee_id        | 97                   \n",
      " work_year          | 2021                 \n",
      " experience_level   | MI                   \n",
      " employment_type    | FT                   \n",
      " job_title          | Financial Data An... \n",
      " salary             | 450000               \n",
      " salary_currency    | USD                  \n",
      " salary_in_usd      | 450000               \n",
      " employee_residence | US                   \n",
      " remote_ratio       | 100                  \n",
      " company_location   | US                   \n",
      " company_size       | L                    \n",
      " experience_level   | middle               \n",
      " biggest_salary     | 450000               \n",
      " employee_residence | US                   \n",
      "\n"
     ]
    }
   ],
   "source": [
    "df_final.show(vertical=True)"
   ]
  },
  {
   "cell_type": "markdown",
   "id": "variable-moore",
   "metadata": {},
   "source": [
    "last task is to save in variable and then print this variable of the biggest salary_in_usd from df_final"
   ]
  },
  {
   "cell_type": "code",
   "execution_count": 28,
   "id": "individual-institution",
   "metadata": {
    "tags": []
   },
   "outputs": [
    {
     "data": {
      "text/plain": [
       "450000"
      ]
     },
     "execution_count": 28,
     "metadata": {},
     "output_type": "execute_result"
    }
   ],
   "source": [
    "max_salary = df_final.agg(max(col('salary_in_usd'))).collect()[0][0]\n",
    "max_salary"
   ]
  },
  {
   "cell_type": "markdown",
   "id": "stopped-procedure",
   "metadata": {},
   "source": [
    "It is the end of PySpark basics. In other lessons you will learn optimizations technics and how to make distributed system"
   ]
  }
 ],
 "metadata": {
  "kernelspec": {
   "display_name": "Python 3 (ipykernel)",
   "language": "python",
   "name": "python3"
  },
  "language_info": {
   "codemirror_mode": {
    "name": "ipython",
    "version": 3
   },
   "file_extension": ".py",
   "mimetype": "text/x-python",
   "name": "python",
   "nbconvert_exporter": "python",
   "pygments_lexer": "ipython3",
   "version": "3.10.10"
  }
 },
 "nbformat": 4,
 "nbformat_minor": 5
}
