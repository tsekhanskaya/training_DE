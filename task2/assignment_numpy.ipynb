{
 "cells": [
  {
   "cell_type": "markdown",
   "id": "d3df79dd",
   "metadata": {},
   "source": [
    "## Упражнения по библиотеке Numpy"
   ]
  },
  {
   "cell_type": "code",
   "execution_count": 2,
   "id": "76b9c43b",
   "metadata": {},
   "outputs": [],
   "source": [
    "import numpy as np"
   ]
  },
  {
   "cell_type": "markdown",
   "id": "03727b7c",
   "metadata": {},
   "source": [
    "**1.** Дан случайный массив, поменять знак у элементов, значения которых между 3 и 8"
   ]
  },
  {
   "cell_type": "code",
   "execution_count": 4,
   "id": "b89a7523",
   "metadata": {},
   "outputs": [],
   "source": [
    "arr = np.random.randint(-10, 10, size=10)\n",
    "arr[3:9] *= -1"
   ]
  },
  {
   "cell_type": "markdown",
   "id": "5fa4abda",
   "metadata": {},
   "source": [
    "**2.** Заменить максимальный элемент случайного массива на 0"
   ]
  },
  {
   "cell_type": "code",
   "execution_count": 9,
   "id": "f2788a6e",
   "metadata": {},
   "outputs": [],
   "source": [
    "max_elem = np.amax(arr)\n",
    "max_indexes = np.where(arr == max_elem) # индексы максимальных элементов в случае повторения\n",
    "\n",
    "arr[max_indexes]=0"
   ]
  },
  {
   "cell_type": "markdown",
   "id": "3cac656b",
   "metadata": {},
   "source": [
    "**3.** Построить прямое произведение массивов (все комбинации с каждым элементом). На вход подается двумерный массив"
   ]
  },
  {
   "cell_type": "code",
   "execution_count": 7,
   "id": "3396b764",
   "metadata": {},
   "outputs": [
    {
     "name": "stdout",
     "output_type": "stream",
     "text": [
      "Input rows: 3\n",
      "Input cols: 2\n",
      "Input 2 numbers (integer) through a space for a row 0: 1 2\n",
      "Input 2 numbers (integer) through a space for a row 1: 2 3\n",
      "Input 2 numbers (integer) through a space for a row 2: 4 5\n",
      "\n",
      " [[1. 2. 4.]\n",
      " [1. 2. 5.]\n",
      " [2. 2. 4.]\n",
      " [2. 2. 5.]\n",
      " [1. 3. 4.]\n",
      " [1. 3. 5.]\n",
      " [2. 3. 4.]\n",
      " [2. 3. 5.]]\n"
     ]
    }
   ],
   "source": [
    "# matrix = np.array([[2,3],[4, 2], [3, 4]])\n",
    "# [[2. 4. 3.]\n",
    "#  [2. 4. 4.]\n",
    "#  [3. 4. 3.]\n",
    "#  [3. 4. 4.]\n",
    "#  [2. 2. 3.]\n",
    "#  [2. 2. 4.]\n",
    "#  [3. 2. 3.]\n",
    "#  [3. 2. 4.]]\n",
    "\n",
    "rows = int(input(\"Input rows: \")) # 3\n",
    "cols = int(input(\"Input cols: \")) # 2\n",
    "\n",
    "matrix = np.zeros((rows, cols))\n",
    "\n",
    "for i in range(rows):\n",
    "    row_values = input(f\"Input {cols} numbers (integer) through a space for a row {i}: \")\n",
    "    elements = row_values.split()\n",
    "    for j in range(cols):\n",
    "        matrix[i][j] = elements[j]\n",
    "\n",
    "arr_meshgrid = np.meshgrid(*matrix) # сетка для умножения\n",
    "arr_product = np.vstack([arr_meshgrid[i].ravel() for i in range(arr_meshgrid.__len__())]).T\n",
    "print('\\n', arr_product)\n"
   ]
  },
  {
   "cell_type": "markdown",
   "id": "674c9354",
   "metadata": {},
   "source": [
    "**4.** Даны 2 массива A (8x3) и B (2x2). Найти строки в A, которые содержат элементы из каждой строки в B, независимо от порядка элементов в B"
   ]
  },
  {
   "cell_type": "code",
   "execution_count": 8,
   "id": "cb664782",
   "metadata": {},
   "outputs": [
    {
     "name": "stdout",
     "output_type": "stream",
     "text": [
      "[0, 2, 3, 7]\n"
     ]
    }
   ],
   "source": [
    "A = np.array([[1, 2, 3], [4, 5, 6], [7, 8, 9], [2, 3, 4],\n",
    "              [5, 6, 7], [8, 9, 1], [3, 4, 5], [6, 7, 8]])\n",
    "\n",
    "B = np.array([[2, 3], [7, 8]])\n",
    "\n",
    "rows = []\n",
    "for i in range(len(A)):\n",
    "    for j in range(len(B)):\n",
    "        if np.isin(B[j], A[i]).all():\n",
    "            rows.append(i)\n",
    "            \n",
    "print(rows) # [0,0,1]"
   ]
  },
  {
   "cell_type": "markdown",
   "id": "fa46533b",
   "metadata": {},
   "source": [
    "**5.** Дана 10x3 матрица, найти строки из неравных значений (например строка [2,2,3] остается, строка [3,3,3] удаляется)"
   ]
  },
  {
   "cell_type": "code",
   "execution_count": 10,
   "id": "fa545b23",
   "metadata": {},
   "outputs": [
    {
     "name": "stdout",
     "output_type": "stream",
     "text": [
      "[[2 2 3]\n",
      " [4 5 6]\n",
      " [7 7 8]\n",
      " [1 2 3]\n",
      " [5 5 6]\n",
      " [7 8 9]]\n"
     ]
    }
   ],
   "source": [
    "matrix = np.array([[2, 2, 3], # строка из неравных знаечений\n",
    "                   [3, 3, 3], \n",
    "                   [4, 5, 6], # строка из неравных знаечений\n",
    "                   [7, 7, 8], # строка из неравных знаечений\n",
    "                   [9, 9, 9], \n",
    "                   [1, 2, 3], # строка из неравных знаечений\n",
    "                   [4, 4, 4],\n",
    "                   [5, 5, 6], # строка из неравных знаечений\n",
    "                   [7, 8, 9], # строка из неравных знаечений\n",
    "                   [1, 1, 1]]) \n",
    "\n",
    "new_matrix = np.array([row for row in matrix if len(np.unique(row)) > 1])\n",
    "\n",
    "print(new_matrix)"
   ]
  },
  {
   "cell_type": "markdown",
   "id": "28f0d116",
   "metadata": {},
   "source": [
    "**6.** Дан двумерный массив. Удалить те строки, которые повторяются"
   ]
  },
  {
   "cell_type": "code",
   "execution_count": 14,
   "id": "83d2c0b7",
   "metadata": {},
   "outputs": [
    {
     "name": "stdout",
     "output_type": "stream",
     "text": [
      "[[1 2 3]\n",
      " [4 5 6]\n",
      " [4 5 9]]\n"
     ]
    }
   ],
   "source": [
    "matrix = np.array([[1, 2, 3], [4, 5, 6], [1, 2, 3], [4, 5, 9], [4, 5, 6]])\n",
    "\n",
    "_, indexes = np.unique(matrix, axis=0, return_index=True)\n",
    "matrix = matrix[np.sort(indexes)]\n",
    "\n",
    "print(matrix)"
   ]
  },
  {
   "cell_type": "markdown",
   "id": "6daa9e37",
   "metadata": {},
   "source": [
    "______\n",
    "______"
   ]
  },
  {
   "cell_type": "markdown",
   "id": "cfbfcaff",
   "metadata": {},
   "source": [
    "Для каждой из следующих задач (1-5) нужно привести 2 реализации – одна без использования numpy (cчитайте, что там, где на входе или выходе должны быть numpy array, будут просто списки), а вторая полностью векторизованная с использованием numpy (без использования питоновских циклов/map/list comprehension).\n",
    "\n",
    "\n",
    "__Замечание 1.__ Можно считать, что все указанные объекты непустые (к примеру, в __задаче 1__ на диагонали матрицы есть ненулевые элементы).\n",
    "\n",
    "__Замечание 2.__ Для большинства задач решение занимает не больше 1-2 строк."
   ]
  },
  {
   "cell_type": "markdown",
   "id": "673cac7f",
   "metadata": {},
   "source": [
    "___"
   ]
  },
  {
   "cell_type": "markdown",
   "id": "ca6f585e",
   "metadata": {},
   "source": [
    "* __Задача 1__: Подсчитать произведение ненулевых элементов на диагонали прямоугольной матрицы.  \n",
    " Например, для X = np.array([[1, 0, 1], [2, 0, 2], [3, 0, 3], [4, 4, 4]]) ответ 3."
   ]
  },
  {
   "cell_type": "code",
   "execution_count": 39,
   "id": "065862fc",
   "metadata": {},
   "outputs": [
    {
     "name": "stdout",
     "output_type": "stream",
     "text": [
      "Результаты подсчета произведения: для list 3 и для array 3\n"
     ]
    }
   ],
   "source": [
    "from functools import reduce\n",
    "\n",
    "# --------------------------------------------------------------------------------------------------\n",
    "lst = [[1, 0, 1], [2, 0, 2], [3, 0, 3], [4, 4, 4]]\n",
    "n = min(len(lst), len(lst[0]))\n",
    "\n",
    "diagonal_elements = [lst[i][i] for i in range(n) if lst[i][i] is not None and lst[i][i] != 0]\n",
    "mult_list = None if not diagonal_elements else reduce(lambda x, y: x*y, diagonal_elements)\n",
    "\n",
    "# --------------------------------------------------------------------------------------------------\n",
    "array = np.array([[1, 0, 1], [2, 0, 2], [3, 0, 3], [4, 4, 4]])\n",
    "\n",
    "diagonal_elements = np.diagonal(array)\n",
    "mult_array = np.prod(diagonal_elements[diagonal_elements != 0])\n",
    "# --------------------------------------------------------------------------------------------------\n",
    "print(f'Результаты подсчета произведения: для list {mult_list} и для array {mult_array}') \n"
   ]
  },
  {
   "cell_type": "markdown",
   "id": "9fc51d41",
   "metadata": {},
   "source": [
    "* __Задача 2__: Даны два вектора x и y. Проверить, задают ли они одно и то же мультимножество.  \n",
    "  Например, для x = np.array([1, 2, 2, 4]), y = np.array([4, 2, 1, 2]) ответ True."
   ]
  },
  {
   "cell_type": "code",
   "execution_count": 23,
   "id": "a809e02f",
   "metadata": {},
   "outputs": [
    {
     "name": "stdout",
     "output_type": "stream",
     "text": [
      "True True\n"
     ]
    }
   ],
   "source": [
    "x_list = [1, 2, 2, 4]\n",
    "y_list = [4, 2, 1, 2]\n",
    "\n",
    "result_list = True if sorted(x_list) == sorted(y_list) else False\n",
    "\n",
    "# --------------------------------------------------------------------------------------------------\n",
    "\n",
    "x_array = np.array([1, 2, 2, 4])\n",
    "y_array = np.array([4, 2, 1, 2])\n",
    "\n",
    "result_array = np.array_equal(np.sort(x_array), np.sort(y_array))\n",
    "\n",
    "# --------------------------------------------------------------------------------------------------\n",
    "\n",
    "print(result_list, result_array)"
   ]
  },
  {
   "cell_type": "markdown",
   "id": "b9c185c7",
   "metadata": {},
   "source": [
    "* __Задача 3__: Найти максимальный элемент в векторе x среди элементов, перед которыми стоит ноль. \n",
    " Например, для x = np.array([6, 2, 0, 3, 0, 0, 5, 7, 0]) ответ 5."
   ]
  },
  {
   "cell_type": "code",
   "execution_count": 38,
   "id": "b57df008",
   "metadata": {},
   "outputs": [
    {
     "name": "stdout",
     "output_type": "stream",
     "text": [
      "5\n",
      "5\n"
     ]
    }
   ],
   "source": [
    "lst = [6, 2, 0, 3, 0, 0, 5, 7, 0]\n",
    "\n",
    "numbers_after_zero = [num for i, num in enumerate(lst[1:]) if lst[i] == 0]\n",
    "max_list = max(numbers_after_zero) if numbers_after_zero else None\n",
    "\n",
    "print(max_list)  # 5\n",
    "\n",
    "# --------------------------------------------------------------------------------------------------\n",
    "array = np.array([6, 2, 0, 3, 0, 0, 5, 7, 0])\n",
    "\n",
    "mask = np.hstack(([False], array[:-1] == 0))\n",
    "max_array = np.max(array[mask])\n",
    "\n",
    "\n",
    "print(max_array)  # 5"
   ]
  },
  {
   "cell_type": "markdown",
   "id": "480be4ce",
   "metadata": {},
   "source": [
    "* __Задача 4__: Реализовать кодирование длин серий (Run-length encoding). Для некоторого вектора x необходимо вернуть кортеж из двух векторов одинаковой длины. Первый содержит числа, а второй - сколько раз их нужно повторить.  \n",
    " Например, для x = np.array([2, 2, 2, 3, 3, 3, 5]) ответ (np.array([2, 3, 5]), np.array([3, 3, 1]))."
   ]
  },
  {
   "cell_type": "code",
   "execution_count": 48,
   "id": "3c592124",
   "metadata": {},
   "outputs": [
    {
     "name": "stdout",
     "output_type": "stream",
     "text": [
      "([2, 3, 5], [3, 3, 1]) \n",
      " (array([2, 3, 5]), array([3, 3, 1]))\n"
     ]
    }
   ],
   "source": [
    "def run_length_encoding_lst(x: list) -> tuple:\n",
    "    if not x:\n",
    "        return [], []\n",
    "\n",
    "    values = [x[0]]\n",
    "    counts = [1]\n",
    "\n",
    "    for i in range(1, len(x)):\n",
    "        if x[i] == x[i-1]:\n",
    "            counts[-1] += 1\n",
    "        else:\n",
    "            values.append(x[i])\n",
    "            counts.append(1)\n",
    "\n",
    "    return values, counts\n",
    "\n",
    "def run_length_encoding_np(x: np.array) -> tuple:\n",
    "    starts = np.concatenate(([True], x[:-1] != x[1:], [True])) # 1 и последний(добавочный) элементы истины\n",
    "    lengths = np.diff(np.where(starts)[0])\n",
    "    values = x[starts[:-1]] # берем без последнего вымышленного\n",
    "    return values, lengths\n",
    "\n",
    "lst = [2, 2, 2, 3, 3, 3, 5]\n",
    "array = np.array([2, 2, 2, 3, 3, 3, 5])\n",
    "\n",
    "result_lst = run_length_encoding_lst(lst)\n",
    "result_np = run_length_encoding_np(array)\n",
    "\n",
    "print(result_lst, '\\n', result_np)"
   ]
  },
  {
   "cell_type": "markdown",
   "id": "077532ec",
   "metadata": {},
   "source": [
    "* __Задача 5__: Даны две выборки объектов - X и Y. Вычислить матрицу евклидовых расстояний между объектами. Сравните с функцией scipy.spatial.distance.cdist по скорости работы."
   ]
  },
  {
   "cell_type": "code",
   "execution_count": 12,
   "id": "1e807797",
   "metadata": {},
   "outputs": [
    {
     "name": "stdout",
     "output_type": "stream",
     "text": [
      "Numpy euclidean_distances: 0.0010 seconds\n",
      "Py euclidean_distances: 0.0001 seconds\n",
      "Cdist: 0.0001 seconds\n"
     ]
    }
   ],
   "source": [
    "import time\n",
    "import random\n",
    "import math\n",
    "from scipy.spatial.distance import cdist\n",
    "\n",
    "def euclidean_distances_np(X, Y):\n",
    "    dists = np.sqrt(np.sum(X ** 2, axis=1)[:, np.newaxis] + np.sum(Y ** 2, axis=1) - 2 * np.dot(X, Y.T))\n",
    "    return dists\n",
    "\n",
    "def euclidean_distances_py(X,Y):\n",
    "    distances = []\n",
    "    for i, x in enumerate(X):\n",
    "        row = []\n",
    "        for j, y in enumerate(Y):\n",
    "            dist = math.sqrt(sum([(a - b)**2 for a, b in zip(x, y)]))\n",
    "            row.append(dist)\n",
    "        distances.append(row)\n",
    "\n",
    "X = np.random.rand(3, 2)\n",
    "Y = np.random.rand(4, 2)\n",
    "X_ls = [[random.random() for j in range(2)] for i in range(3)]\n",
    "Y_ls = [[random.random() for j in range(2)] for i in range(4)]\n",
    "\n",
    "start = time.time()\n",
    "dists1 = euclidean_distances_np(X, Y)\n",
    "end = time.time()\n",
    "print(f\"Numpy euclidean_distances: {end - start:.4f} seconds\")\n",
    "\n",
    "start = time.time()\n",
    "dists2 = euclidean_distances_py(X_ls, Y_ls)\n",
    "end = time.time()\n",
    "print(f\"Py euclidean_distances: {end - start:.4f} seconds\")\n",
    "\n",
    "start = time.time()\n",
    "dists3 = cdist(X, Y, 'euclidean')\n",
    "end = time.time()\n",
    "print(f\"Cdist: {end - start:.4f} seconds\")\n",
    "\n",
    "# assert np.allclose(dists1, dists3)\n",
    "# assert np.allclose(dists2, dists3)"
   ]
  },
  {
   "cell_type": "markdown",
   "id": "973e8064",
   "metadata": {},
   "source": [
    "_______\n",
    "________"
   ]
  },
  {
   "cell_type": "markdown",
   "id": "1104acb7",
   "metadata": {},
   "source": [
    "* #### __Задача 6__: CrunchieMunchies __*__\n",
    "\n",
    "Вы работаете в отделе маркетинга пищевой компании MyCrunch, которая разрабатывает новый вид вкусных, полезных злаков под названием **CrunchieMunchies**.\n",
    "\n",
    "Вы хотите продемонстрировать потребителям, насколько полезны ваши хлопья по сравнению с другими ведущими брендами, поэтому вы собрали данные о питании нескольких разных конкурентов.\n",
    "\n",
    "Ваша задача - использовать вычисления Numpy для анализа этих данных и доказать, что ваши **СrunchieMunchies** - самый здоровый выбор для потребителей.\n"
   ]
  },
  {
   "cell_type": "code",
   "execution_count": 13,
   "id": "10a77f8d",
   "metadata": {},
   "outputs": [],
   "source": [
    "import numpy as np"
   ]
  },
  {
   "cell_type": "markdown",
   "id": "ab87cb03",
   "metadata": {},
   "source": [
    "1. Просмотрите файл cereal.csv. Этот файл содержит количества калорий для различных марок хлопьев. Загрузите данные из файла и сохраните их как calorie_stats."
   ]
  },
  {
   "cell_type": "code",
   "execution_count": 15,
   "id": "9681ebf2",
   "metadata": {},
   "outputs": [
    {
     "data": {
      "text/plain": [
       "array([ 70., 120.,  70.,  50., 110., 110., 110., 130.,  90.,  90., 120.,\n",
       "       110., 120., 110., 110., 110., 100., 110., 110., 110., 100., 110.,\n",
       "       100., 100., 110., 110., 100., 120., 120., 110., 100., 110., 100.,\n",
       "       110., 120., 120., 110., 110., 110., 140., 110., 100., 110., 100.,\n",
       "       150., 150., 160., 100., 120., 140.,  90., 130., 120., 100.,  50.,\n",
       "        50., 100., 100., 120., 100.,  90., 110., 110.,  80.,  90.,  90.,\n",
       "       110., 110.,  90., 110., 140., 100., 110., 110., 100., 100., 110.])"
      ]
     },
     "execution_count": 15,
     "metadata": {},
     "output_type": "execute_result"
    }
   ],
   "source": [
    "calorie_stats = np.loadtxt(\"./data/cereal.csv\", delimiter=\",\")\n",
    "calorie_stats"
   ]
  },
  {
   "cell_type": "markdown",
   "id": "139cfbd8",
   "metadata": {},
   "source": [
    "2. В одной порции CrunchieMunchies содержится 60 калорий. Насколько выше среднее количество калорий у ваших конкурентов?\n",
    "\n",
    "Сохраните ответ в переменной average_calories и распечатайте переменную в терминале"
   ]
  },
  {
   "cell_type": "code",
   "execution_count": 18,
   "id": "7036d240",
   "metadata": {},
   "outputs": [
    {
     "data": {
      "text/plain": [
       "106.88311688311688"
      ]
     },
     "execution_count": 18,
     "metadata": {},
     "output_type": "execute_result"
    }
   ],
   "source": [
    "average_calories = np.mean(calorie_stats)\n",
    "average_calories"
   ]
  },
  {
   "cell_type": "markdown",
   "id": "b2ddb4cd",
   "metadata": {},
   "source": [
    "3. Корректно ли среднее количество калорий отражает распределение набора данных? Давайте отсортируем данные и посмотрим.\n",
    "\n",
    "Отсортируйте данные и сохраните результат в переменной calorie_stats_sorted. Распечатайте отсортированную информацию"
   ]
  },
  {
   "cell_type": "code",
   "execution_count": 19,
   "id": "46eeb4ed",
   "metadata": {},
   "outputs": [
    {
     "data": {
      "text/plain": [
       "array([ 50.,  50.,  50.,  70.,  70.,  80.,  90.,  90.,  90.,  90.,  90.,\n",
       "        90.,  90., 100., 100., 100., 100., 100., 100., 100., 100., 100.,\n",
       "       100., 100., 100., 100., 100., 100., 100., 100., 110., 110., 110.,\n",
       "       110., 110., 110., 110., 110., 110., 110., 110., 110., 110., 110.,\n",
       "       110., 110., 110., 110., 110., 110., 110., 110., 110., 110., 110.,\n",
       "       110., 110., 110., 110., 120., 120., 120., 120., 120., 120., 120.,\n",
       "       120., 120., 120., 130., 130., 140., 140., 140., 150., 150., 160.])"
      ]
     },
     "execution_count": 19,
     "metadata": {},
     "output_type": "execute_result"
    }
   ],
   "source": [
    "calorie_stats_sorted = np.sort(calorie_stats)\n",
    "calorie_stats_sorted"
   ]
  },
  {
   "cell_type": "markdown",
   "id": "4dc74116",
   "metadata": {},
   "source": [
    "4. Похоже, что большинство значений выше среднего. Давайте посмотрим, является ли медиана наиболее корректным показателем набора данных.\n",
    "\n",
    "Вычислите медиану набора данных и сохраните свой ответ в median_calories. Выведите медиану, чтобы вы могли видеть, как она сравнивается со средним значением."
   ]
  },
  {
   "cell_type": "code",
   "execution_count": 21,
   "id": "b56627c3",
   "metadata": {},
   "outputs": [
    {
     "data": {
      "text/plain": [
       "110.0"
      ]
     },
     "execution_count": 21,
     "metadata": {},
     "output_type": "execute_result"
    }
   ],
   "source": [
    "median_calories = np.median(calorie_stats)\n",
    "median_calories"
   ]
  },
  {
   "cell_type": "markdown",
   "id": "a63ab72f",
   "metadata": {},
   "source": [
    "5. В то время как медиана показывает, что по крайней мере половина наших значений составляет более 100 калорий, было бы более впечатляюще показать, что значительная часть конкурентов имеет более высокое количество калорий, чем CrunchieMunchies.\n",
    "\n",
    "Рассчитайте различные процентили и распечатайте их, пока не найдете наименьший процентиль, превышающий 60 калорий. Сохраните это значение в переменной nth_percentile."
   ]
  },
  {
   "cell_type": "code",
   "execution_count": 22,
   "id": "fe80ce03",
   "metadata": {},
   "outputs": [
    {
     "data": {
      "text/plain": [
       "4"
      ]
     },
     "execution_count": 22,
     "metadata": {},
     "output_type": "execute_result"
    }
   ],
   "source": [
    "nth_percentile = 1\n",
    "while np.percentile(calorie_stats, nth_percentile) <= 60:\n",
    "    nth_percentile += 1\n",
    "    \n",
    "nth_percentile"
   ]
  },
  {
   "cell_type": "markdown",
   "id": "a2a3c5aa",
   "metadata": {},
   "source": [
    "6. Хотя процентиль показывает нам, что у большинства конкурентов количество калорий намного выше, это неудобная концепция для использования в маркетинговых материалах.\n",
    "\n",
    "Вместо этого давайте подсчитаем процент хлопьев, в которых содержится более 60 калорий на порцию. Сохраните свой ответ в переменной more_calories и распечатайте его"
   ]
  },
  {
   "cell_type": "code",
   "execution_count": 24,
   "id": "ade0f6ea",
   "metadata": {},
   "outputs": [
    {
     "data": {
      "text/plain": [
       "96.1038961038961"
      ]
     },
     "execution_count": 24,
     "metadata": {},
     "output_type": "execute_result"
    }
   ],
   "source": [
    "more_calories = (calorie_stats >= 60).mean() * 100\n",
    "more_calories"
   ]
  },
  {
   "cell_type": "markdown",
   "id": "1735d65b",
   "metadata": {},
   "source": [
    "7. Это действительно высокий процент. Это будет очень полезно, когда мы будем продвигать CrunchieMunchies. Но один вопрос заключается в том, насколько велики различия в наборе данных? Можем ли мы сделать обобщение, что в большинстве злаков содержится около 100 калорий или разброс еще больше?\n",
    "\n",
    "Рассчитайте величину отклонения, найдя стандартное отклонение, Сохраните свой ответ в calorie_std и распечатайте на терминале. Как мы можем включить эту ценность в наш анализ?"
   ]
  },
  {
   "cell_type": "code",
   "execution_count": 26,
   "id": "85c8df1f",
   "metadata": {},
   "outputs": [
    {
     "data": {
      "text/plain": [
       "19.35718533390827"
      ]
     },
     "execution_count": 26,
     "metadata": {},
     "output_type": "execute_result"
    }
   ],
   "source": [
    "calorie_std = np.std(calorie_stats)\n",
    "calorie_std"
   ]
  },
  {
   "cell_type": "markdown",
   "id": "037455c5",
   "metadata": {},
   "source": [
    "8. Напишите короткий абзац, в котором кратко изложите свои выводы и то, как, по вашему мнению, эти данные могут быть использованы в интересах Mycrunch при маркетинге CrunchieMunchies."
   ]
  },
  {
   "cell_type": "code",
   "execution_count": 34,
   "id": "c260fee9",
   "metadata": {},
   "outputs": [
    {
     "name": "stdout",
     "output_type": "stream",
     "text": [
      "Среднее значение калорий в наборе данных конкурентов Mycrunch равно 106.88311688311688,       а медиана — 110.0. Это говорит о том, что большинство значений находятся около       или выше среднего, что подтверждается гистограммой распределения калорий. Таким образом,       среднее значение не является наиболее информативным показателем для описания данных, а медиана       отражает центральную тенденцию набора данных более точно\n",
      "В контексте маркетинга CrunchieMunchies, эти данные могут быть использованы для подчеркивания     относительно низкой калорийности CrunchieMunchies по сравнению с конкурентами. Однако, для более     точного сравнения, следует также учитывать другие параметры (цена, вкусовые характеристики и т.д.)\n"
     ]
    }
   ],
   "source": [
    "# Сравнение медианы и среднего значения поможет определить, \n",
    "# какое из них лучше отражает центральную тенденцию данных.\n",
    "comparison = median_calories > average_calories if True else False\n",
    "\n",
    "print(f\"Среднее значение калорий в наборе данных конкурентов Mycrunch равно {average_calories}, \\\n",
    "      а медиана — {median_calories}. Это говорит о том, что большинство значений находятся около \\\n",
    "      или выше среднего, что подтверждается гистограммой распределения калорий. Таким образом, \\\n",
    "      среднее значение не является наиболее информативным показателем для описания данных, а медиана \\\n",
    "      отражает центральную тенденцию набора данных более точно\")\n",
    "\n",
    "print(\"В контексте маркетинга CrunchieMunchies, эти данные могут быть использованы для подчеркивания \\\n",
    "    относительно низкой калорийности CrunchieMunchies по сравнению с конкурентами. Однако, для более \\\n",
    "    точного сравнения, следует также учитывать другие параметры (цена, вкусовые характеристики и т.д.)\")"
   ]
  },
  {
   "cell_type": "code",
   "execution_count": null,
   "id": "8b53e11d",
   "metadata": {},
   "outputs": [],
   "source": []
  }
 ],
 "metadata": {
  "kernelspec": {
   "display_name": "Python 3 (ipykernel)",
   "language": "python",
   "name": "python3"
  },
  "language_info": {
   "codemirror_mode": {
    "name": "ipython",
    "version": 3
   },
   "file_extension": ".py",
   "mimetype": "text/x-python",
   "name": "python",
   "nbconvert_exporter": "python",
   "pygments_lexer": "ipython3",
   "version": "3.8.10"
  }
 },
 "nbformat": 4,
 "nbformat_minor": 5
}
