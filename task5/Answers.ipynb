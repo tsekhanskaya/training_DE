{
 "cells": [
  {
   "cell_type": "code",
   "execution_count": 32,
   "id": "f4c4aeb9-8924-4c09-89f0-580f32ad9954",
   "metadata": {
    "tags": []
   },
   "outputs": [],
   "source": [
    "import os\n",
    "from pyspark.sql import SparkSession\n",
    "from pyspark.sql.functions import *\n",
    "from pyspark.sql.window import Window"
   ]
  },
  {
   "cell_type": "code",
   "execution_count": 2,
   "id": "df044393-e4ca-47ac-9826-cb0c25d1b2b2",
   "metadata": {
    "tags": []
   },
   "outputs": [],
   "source": [
    "spark = SparkSession.builder \\\n",
    "    .config(\"spark.driver.extraClassPath\", os.environ[\"JDBC_DRIVER_PATH\"]) \\\n",
    "    .appName(\"Load PostgreSQL table into PySpark DataFrame\") \\\n",
    "    .getOrCreate()"
   ]
  },
  {
   "cell_type": "code",
   "execution_count": 3,
   "id": "c24e0988-d532-4d01-8f70-34f85a9c26f5",
   "metadata": {
    "tags": []
   },
   "outputs": [],
   "source": [
    "jdbc_url = f\"jdbc:postgresql://postgres:5432/{os.environ['POSTGRES_DB']}\"\n",
    "connection_properties = {\n",
    "    \"user\": os.environ[\"POSTGRES_USER\"],\n",
    "    \"password\": os.environ[\"POSTGRES_PASSWORD\"]\n",
    "}"
   ]
  },
  {
   "cell_type": "markdown",
   "id": "4c40e4de-a6e1-4688-a749-0aff79141092",
   "metadata": {},
   "source": [
    "Из демо PostgreSQL базы данных загрузите таблицы в PySpark DataFrame."
   ]
  },
  {
   "cell_type": "code",
   "execution_count": 4,
   "id": "a042e676-390b-4d74-bc67-9c24f57c88dd",
   "metadata": {
    "tags": []
   },
   "outputs": [
    {
     "data": {
      "text/plain": [
       "['film_actor',\n",
       " 'address',\n",
       " 'city',\n",
       " 'actor',\n",
       " 'category',\n",
       " 'country',\n",
       " 'customer',\n",
       " 'film',\n",
       " 'film_category',\n",
       " 'inventory',\n",
       " 'language',\n",
       " 'store',\n",
       " 'payment_p2022_07',\n",
       " 'rental',\n",
       " 'staff',\n",
       " 'payment',\n",
       " 'payment_p2022_03',\n",
       " 'payment_p2022_04',\n",
       " 'payment_p2022_05',\n",
       " 'payment_p2022_06',\n",
       " 'payment_p2022_01',\n",
       " 'payment_p2022_02']"
      ]
     },
     "execution_count": 4,
     "metadata": {},
     "output_type": "execute_result"
    }
   ],
   "source": [
    "table_list = spark.read.jdbc(url=jdbc_url, table=\"pg_tables\", properties=connection_properties) \\\n",
    "    .filter(\"schemaname = 'public' and tablename <> 'spatial_ref_sys'\") \\\n",
    "    .select(\"tablename\") \\\n",
    "    .rdd \\\n",
    "    .map(lambda x: x[0]) \\\n",
    "    .collect()\n",
    "\n",
    "table_list"
   ]
  },
  {
   "cell_type": "code",
   "execution_count": 5,
   "id": "75df2b5e-b212-4311-89c2-69bde561d1b5",
   "metadata": {
    "tags": []
   },
   "outputs": [
    {
     "name": "stdout",
     "output_type": "stream",
     "text": [
      "Table film_actor contains 5462 rows.\n",
      "Table address contains 603 rows.\n",
      "Table city contains 600 rows.\n",
      "Table actor contains 200 rows.\n",
      "Table category contains 16 rows.\n",
      "Table country contains 109 rows.\n",
      "Table customer contains 599 rows.\n",
      "Table film contains 1000 rows.\n",
      "Table film_category contains 1000 rows.\n",
      "Table inventory contains 4581 rows.\n",
      "Table language contains 6 rows.\n",
      "Table store contains 2 rows.\n",
      "Table payment_p2022_07 contains 2334 rows.\n",
      "Table rental contains 16044 rows.\n",
      "Table staff contains 2 rows.\n",
      "Table payment contains 16049 rows.\n",
      "Table payment_p2022_03 contains 2713 rows.\n",
      "Table payment_p2022_04 contains 2547 rows.\n",
      "Table payment_p2022_05 contains 2677 rows.\n",
      "Table payment_p2022_06 contains 2654 rows.\n",
      "Table payment_p2022_01 contains 723 rows.\n",
      "Table payment_p2022_02 contains 2401 rows.\n"
     ]
    }
   ],
   "source": [
    "for table_name in table_list:\n",
    "    table_df = spark.read.jdbc(url=jdbc_url, table=table_name, properties=connection_properties)\n",
    "    print(f\"Table {table_name} contains {table_df.count()} rows.\")"
   ]
  },
  {
   "cell_type": "code",
   "execution_count": 6,
   "id": "f79781a6-6d5e-4d48-8454-d9643caab96e",
   "metadata": {
    "tags": []
   },
   "outputs": [],
   "source": [
    "table_df_dict = {}\n",
    "\n",
    "for table_name in table_list:\n",
    "    table_df = spark.read.jdbc(url=jdbc_url, table=table_name, properties=connection_properties)\n",
    "    table_df_dict[table_name] = table_df\n"
   ]
  },
  {
   "cell_type": "code",
   "execution_count": 7,
   "id": "15ba559e-8be4-4b62-b4e1-e1bcef1e04fe",
   "metadata": {
    "tags": []
   },
   "outputs": [
    {
     "data": {
      "text/plain": [
       "{'film_actor': DataFrame[actor_id: int, film_id: int, last_update: timestamp],\n",
       " 'address': DataFrame[address_id: int, address: string, address2: string, district: string, city_id: int, postal_code: string, phone: string, last_update: timestamp],\n",
       " 'city': DataFrame[city_id: int, city: string, country_id: int, last_update: timestamp],\n",
       " 'actor': DataFrame[actor_id: int, first_name: string, last_name: string, last_update: timestamp],\n",
       " 'category': DataFrame[category_id: int, name: string, last_update: timestamp],\n",
       " 'country': DataFrame[country_id: int, country: string, last_update: timestamp],\n",
       " 'customer': DataFrame[customer_id: int, store_id: int, first_name: string, last_name: string, email: string, address_id: int, activebool: boolean, create_date: date, last_update: timestamp, active: int],\n",
       " 'film': DataFrame[film_id: int, title: string, description: string, release_year: int, language_id: int, original_language_id: int, rental_duration: smallint, rental_rate: decimal(4,2), length: smallint, replacement_cost: decimal(5,2), rating: string, last_update: timestamp, special_features: array<string>, fulltext: string],\n",
       " 'film_category': DataFrame[film_id: int, category_id: int, last_update: timestamp],\n",
       " 'inventory': DataFrame[inventory_id: int, film_id: int, store_id: int, last_update: timestamp],\n",
       " 'language': DataFrame[language_id: int, name: string, last_update: timestamp],\n",
       " 'store': DataFrame[store_id: int, manager_staff_id: int, address_id: int, last_update: timestamp],\n",
       " 'payment_p2022_07': DataFrame[payment_id: int, customer_id: int, staff_id: int, rental_id: int, amount: decimal(5,2), payment_date: timestamp],\n",
       " 'rental': DataFrame[rental_id: int, rental_date: timestamp, inventory_id: int, customer_id: int, return_date: timestamp, staff_id: int, last_update: timestamp],\n",
       " 'staff': DataFrame[staff_id: int, first_name: string, last_name: string, address_id: int, email: string, store_id: int, active: boolean, username: string, password: string, last_update: timestamp, picture: binary],\n",
       " 'payment': DataFrame[payment_id: int, customer_id: int, staff_id: int, rental_id: int, amount: decimal(5,2), payment_date: timestamp],\n",
       " 'payment_p2022_03': DataFrame[payment_id: int, customer_id: int, staff_id: int, rental_id: int, amount: decimal(5,2), payment_date: timestamp],\n",
       " 'payment_p2022_04': DataFrame[payment_id: int, customer_id: int, staff_id: int, rental_id: int, amount: decimal(5,2), payment_date: timestamp],\n",
       " 'payment_p2022_05': DataFrame[payment_id: int, customer_id: int, staff_id: int, rental_id: int, amount: decimal(5,2), payment_date: timestamp],\n",
       " 'payment_p2022_06': DataFrame[payment_id: int, customer_id: int, staff_id: int, rental_id: int, amount: decimal(5,2), payment_date: timestamp],\n",
       " 'payment_p2022_01': DataFrame[payment_id: int, customer_id: int, staff_id: int, rental_id: int, amount: decimal(5,2), payment_date: timestamp],\n",
       " 'payment_p2022_02': DataFrame[payment_id: int, customer_id: int, staff_id: int, rental_id: int, amount: decimal(5,2), payment_date: timestamp]}"
      ]
     },
     "execution_count": 7,
     "metadata": {},
     "output_type": "execute_result"
    }
   ],
   "source": [
    "table_df_dict"
   ]
  },
  {
   "cell_type": "code",
   "execution_count": 8,
   "id": "a436dcff-39a0-4192-9ede-81f92d6ea64e",
   "metadata": {
    "tags": []
   },
   "outputs": [],
   "source": [
    "film_actor_df = table_df_dict[\"film_actor\"]\n",
    "address_df = table_df_dict[\"address\"]\n",
    "city_df = table_df_dict[\"city\"]\n",
    "actor_df = table_df_dict[\"actor\"]\n",
    "category_df = table_df_dict[\"category\"]\n",
    "country_df = table_df_dict[\"country\"]\n",
    "customer_df = table_df_dict[\"customer\"]\n",
    "film_df = table_df_dict[\"film\"]\n",
    "film_category_df = table_df_dict[\"film_category\"]\n",
    "inventory_df = table_df_dict[\"inventory\"]\n",
    "language_df = table_df_dict[\"language\"]\n",
    "store_df = table_df_dict[\"store\"]\n",
    "payment_p2022_07_df = table_df_dict[\"payment_p2022_07\"]\n",
    "rental_df = table_df_dict[\"rental\"]\n",
    "staff_df = table_df_dict[\"staff\"]\n",
    "payment_df = table_df_dict[\"payment\"]\n",
    "payment_p2022_03_df = table_df_dict[\"payment_p2022_03\"]\n",
    "payment_p2022_04_df = table_df_dict[\"payment_p2022_04\"]\n",
    "payment_p2022_05_df = table_df_dict[\"payment_p2022_05\"]\n",
    "payment_p2022_06_df = table_df_dict[\"payment_p2022_06\"]\n",
    "payment_p2022_01_df = table_df_dict[\"payment_p2022_01\"]\n",
    "payment_p2022_02_df = table_df_dict[\"payment_p2022_02\"]"
   ]
  },
  {
   "cell_type": "markdown",
   "id": "2a0fe596-78a7-4249-aaa2-87dce47fb14c",
   "metadata": {
    "tags": []
   },
   "source": [
    "Используя эти данные (без SQL) напишите PySpark код для того, чтобы:"
   ]
  },
  {
   "cell_type": "markdown",
   "id": "e0cc1edc-b39d-4a20-bb39-84082756bbc8",
   "metadata": {},
   "source": [
    "1. Вывести количество фильмов в каждой категории, отсортировать по убыванию.\n"
   ]
  },
  {
   "cell_type": "code",
   "execution_count": 9,
   "id": "483f3fee-ae4e-4716-8614-485cc2109cd5",
   "metadata": {
    "tags": []
   },
   "outputs": [
    {
     "name": "stdout",
     "output_type": "stream",
     "text": [
      "+-----------+-----------+\n",
      "|       name|count_films|\n",
      "+-----------+-----------+\n",
      "|     Sports|         74|\n",
      "|    Foreign|         73|\n",
      "|     Family|         69|\n",
      "|Documentary|         68|\n",
      "|  Animation|         66|\n",
      "|     Action|         64|\n",
      "|        New|         63|\n",
      "|      Drama|         62|\n",
      "|      Games|         61|\n",
      "|     Sci-Fi|         61|\n",
      "|   Children|         60|\n",
      "|     Comedy|         58|\n",
      "|     Travel|         57|\n",
      "|   Classics|         57|\n",
      "|     Horror|         56|\n",
      "|      Music|         51|\n",
      "+-----------+-----------+\n",
      "\n"
     ]
    }
   ],
   "source": [
    "result_1 = category_df.join(film_category_df, \"category_id\") \\\n",
    "                      .join(film_category_df, \"film_id\") \\\n",
    "                      .groupBy(\"name\") \\\n",
    "                      .agg(count(\"*\").alias(\"count_films\")) \\\n",
    "                      .orderBy(\"count_films\", ascending=False)\n",
    "\n",
    "result_1.show()\n"
   ]
  },
  {
   "cell_type": "markdown",
   "id": "24229f39-9315-4c34-bdeb-825a6d577da2",
   "metadata": {},
   "source": [
    "\n",
    "2. Вывести 10 актеров, чьи фильмы большего всего арендовали, отсортировать по убыванию.\n"
   ]
  },
  {
   "cell_type": "code",
   "execution_count": 10,
   "id": "7ff2bcc2-bd74-4453-96d7-44d811879993",
   "metadata": {
    "tags": []
   },
   "outputs": [
    {
     "name": "stdout",
     "output_type": "stream",
     "text": [
      "+--------+----------+-----------+------------+\n",
      "|actor_id|first_name|  last_name|rental_count|\n",
      "+--------+----------+-----------+------------+\n",
      "|     107|      GINA|  DEGENERES|         753|\n",
      "|     181|   MATTHEW|     CARREY|         678|\n",
      "|     198|      MARY|     KEITEL|         674|\n",
      "|     144|    ANGELA|WITHERSPOON|         654|\n",
      "|     102|    WALTER|       TORN|         640|\n",
      "|      60|     HENRY|      BERRY|         612|\n",
      "|     150|     JAYNE|      NOLTE|         611|\n",
      "|      37|       VAL|     BOLGER|         605|\n",
      "|      23|    SANDRA|     KILMER|         604|\n",
      "|      90|      SEAN|    GUINESS|         599|\n",
      "+--------+----------+-----------+------------+\n",
      "\n"
     ]
    }
   ],
   "source": [
    "result_2 = actor_df.join(film_actor_df, \"actor_id\") \\\n",
    "    .join(inventory_df, \"film_id\") \\\n",
    "    .join(rental_df, \"inventory_id\") \\\n",
    "    .groupBy(\"actor_id\", \"first_name\", \"last_name\") \\\n",
    "    .agg(count(\"*\").alias(\"rental_count\")) \\\n",
    "    .orderBy(\"rental_count\", ascending=False) \\\n",
    "    .limit(10)\n",
    "\n",
    "result_2.show()"
   ]
  },
  {
   "cell_type": "markdown",
   "id": "2f6cdc64-2f04-4402-afa6-8becc6f48f16",
   "metadata": {},
   "source": [
    "3. Вывести категорию фильмов, на которую потратили больше всего денег.\n",
    "\n"
   ]
  },
  {
   "cell_type": "code",
   "execution_count": 11,
   "id": "0ae3d704-8145-4fd3-bc11-ba24a2245b05",
   "metadata": {
    "tags": []
   },
   "outputs": [
    {
     "name": "stdout",
     "output_type": "stream",
     "text": [
      "+------+-----------+\n",
      "|  name|total_spent|\n",
      "+------+-----------+\n",
      "|Sports|    5314.21|\n",
      "+------+-----------+\n",
      "\n"
     ]
    }
   ],
   "source": [
    "result_3 = payment_df.join(rental_df, \"rental_id\") \\\n",
    "                     .join(inventory_df, \"inventory_id\") \\\n",
    "                     .join(film_df, \"film_id\") \\\n",
    "                     .join(film_category_df, \"film_id\") \\\n",
    "                     .join(category_df, \"category_id\") \\\n",
    "                     .groupBy(\"name\") \\\n",
    "                     .agg(sum(\"amount\").alias(\"total_spent\")) \\\n",
    "                     .orderBy(\"total_spent\", ascending=False) \\\n",
    "                     .limit(1)\n",
    "                          \n",
    "result_3.show()"
   ]
  },
  {
   "cell_type": "markdown",
   "id": "d5364182-8242-47b3-a97b-bc9b8431259f",
   "metadata": {},
   "source": [
    "4. Вывести названия фильмов, которых нет в inventory.\n"
   ]
  },
  {
   "cell_type": "code",
   "execution_count": 63,
   "id": "b130fbfd-097e-4717-b375-da3ba42e34eb",
   "metadata": {},
   "outputs": [
    {
     "name": "stdout",
     "output_type": "stream",
     "text": [
      "+----------------------+\n",
      "|title                 |\n",
      "+----------------------+\n",
      "|CHOCOLATE DUCK        |\n",
      "|BUTCH PANTHER         |\n",
      "|VOLUME HOUSE          |\n",
      "|ORDER BETRAYED        |\n",
      "|TADPOLE PARK          |\n",
      "|KILL BROTHERHOOD      |\n",
      "|FRANKENSTEIN STRANGER |\n",
      "|CROSSING DIVORCE      |\n",
      "|SUICIDES SILENCE      |\n",
      "|CATCH AMISTAD         |\n",
      "|PERDITION FARGO       |\n",
      "|FLOATS GARDEN         |\n",
      "|GUMP DATE             |\n",
      "|WALLS ARTIST          |\n",
      "|GLADIATOR WESTWARD    |\n",
      "|HOCUS FRIDA           |\n",
      "|ARSENIC INDEPENDENCE  |\n",
      "|MUPPET MILE           |\n",
      "|FIREHOUSE VIETNAM     |\n",
      "|ROOF CHAMPION         |\n",
      "|DAZED PUNK            |\n",
      "|PEARL DESTINY         |\n",
      "|RAINBOW SHOCK         |\n",
      "|KENTUCKIAN GIANT      |\n",
      "|BOONDOCK BALLROOM     |\n",
      "|COMMANDMENTS EXPRESS  |\n",
      "|HATE HANDICAP         |\n",
      "|ARK RIDGEMONT         |\n",
      "|CROWDS TELEMARK       |\n",
      "|DELIVERANCE MULHOLLAND|\n",
      "|RAIDERS ANTITRUST     |\n",
      "|SISTER FREDDY         |\n",
      "|VILLAIN DESPERATE     |\n",
      "|APOLLO TEEN           |\n",
      "|ALICE FANTASIA        |\n",
      "|CRYSTAL BREAKING      |\n",
      "|TREASURE COMMAND      |\n",
      "|SKY MIRACLE           |\n",
      "|CHINATOWN GLADIATOR   |\n",
      "|PSYCHO SHRUNK         |\n",
      "|ARGONAUTS TOWN        |\n",
      "|WAKE JAWS             |\n",
      "+----------------------+\n",
      "\n"
     ]
    }
   ],
   "source": [
    "result_4 = film_df.join(inventory_df, \"film_id\", \"leftanti\").select(\"title\")\n",
    "\n",
    "result_4.show(result_4.count(), truncate=False)"
   ]
  },
  {
   "cell_type": "markdown",
   "id": "fda5ee62-65ae-412f-b682-db2cd69d51c5",
   "metadata": {},
   "source": [
    "5. Вывести топ 3 актеров, которые больше всего появлялись в фильмах в категории “Children”. Если у нескольких актеров одинаковое кол-во фильмов, вывести всех..\n"
   ]
  },
  {
   "cell_type": "code",
   "execution_count": 34,
   "id": "6877c9d3-968e-43a9-bb63-eb8b943fcbfc",
   "metadata": {
    "tags": []
   },
   "outputs": [
    {
     "name": "stdout",
     "output_type": "stream",
     "text": [
      "+-------------+----------+----+\n",
      "|   actor_name|film_count|rank|\n",
      "+-------------+----------+----+\n",
      "| HELEN VOIGHT|         7|   1|\n",
      "|  SUSAN DAVIS|         6|   2|\n",
      "|   MARY TANDY|         5|   3|\n",
      "|   RALPH CRUZ|         5|   3|\n",
      "|KEVIN GARLAND|         5|   3|\n",
      "|  WHOOPI HURT|         5|   3|\n",
      "+-------------+----------+----+\n",
      "\n"
     ]
    }
   ],
   "source": [
    "joined_data = actor_df \\\n",
    "    .join(film_actor_df, actor_df.actor_id == film_actor_df.actor_id) \\\n",
    "    .join(film_category_df, film_actor_df.film_id == film_category_df.film_id) \\\n",
    "    .join(category_df, film_category_df.category_id == category_df.category_id)\n",
    "\n",
    "filtered_data = joined_data \\\n",
    "    .filter(category_df.name == \"Children\")\n",
    "\n",
    "result_5 = filtered_data \\\n",
    "    .groupBy(concat(actor_df.first_name, lit(\" \"), actor_df.last_name).alias(\"actor_name\")) \\\n",
    "    .agg(count(\"*\").alias(\"film_count\"), rank().over(Window.orderBy(count(\"*\").desc())).alias(\"rank\")) \\\n",
    "    .filter(col(\"rank\") <= 3) \\\n",
    "    .orderBy(col(\"rank\"))\n",
    "\n",
    "result_5.show()"
   ]
  },
  {
   "cell_type": "markdown",
   "id": "5900edba-a1a9-434d-9e4c-fc5625bc291b",
   "metadata": {},
   "source": [
    "\n",
    "6. Вывести города с количеством активных и неактивных клиентов (активный — customer.active = 1). Отсортировать по количеству неактивных клиентов по убыванию.\n"
   ]
  },
  {
   "cell_type": "code",
   "execution_count": 35,
   "id": "1ba00f58-8bb8-4668-a396-64852481dd81",
   "metadata": {
    "tags": []
   },
   "outputs": [
    {
     "name": "stdout",
     "output_type": "stream",
     "text": [
      "+------------------+----------------+------------------+\n",
      "|              city|active_customers|inactive_customers|\n",
      "+------------------+----------------+------------------+\n",
      "|         Pingxiang|               0|                 1|\n",
      "|       Szkesfehrvr|               0|                 1|\n",
      "|  Charlotte Amalie|               0|                 1|\n",
      "|         Najafabad|               0|                 1|\n",
      "|           Wroclaw|               0|                 1|\n",
      "|            Ktahya|               0|                 1|\n",
      "|            Amroha|               0|                 1|\n",
      "|   Southend-on-Sea|               0|                 1|\n",
      "|           Bat Yam|               0|                 1|\n",
      "|            Kamyin|               0|                 1|\n",
      "|          Xiangfan|               0|                 1|\n",
      "|            Daxian|               0|                 1|\n",
      "|          Uluberia|               0|                 1|\n",
      "|     Coatzacoalcos|               0|                 1|\n",
      "|        Kumbakonam|               0|                 1|\n",
      "|          Fengshan|               1|                 0|\n",
      "|A Corua (La Corua)|               1|                 0|\n",
      "|           El Alto|               1|                 0|\n",
      "|          Myingyan|               1|                 0|\n",
      "|              Linz|               1|                 0|\n",
      "+------------------+----------------+------------------+\n",
      "only showing top 20 rows\n",
      "\n"
     ]
    },
    {
     "data": {
      "text/plain": [
       "'Result has 597 rows'"
      ]
     },
     "execution_count": 35,
     "metadata": {},
     "output_type": "execute_result"
    }
   ],
   "source": [
    "joined_data = customer_df.join(address_df, \"address_id\").join(city_df, \"city_id\")\n",
    "\n",
    "result_6 = joined_data.groupBy(\"city\") \\\n",
    "                   .agg(count(when(customer_df.active == 1, 1)).alias(\"active_customers\"), \\\n",
    "                        count(when(customer_df.active == 0, 1)).alias(\"inactive_customers\")) \\\n",
    "                   .orderBy(\"inactive_customers\", ascending=False)\n",
    "\n",
    "result_6.show()\n",
    "f\"Result has {result_6.count()} rows\""
   ]
  },
  {
   "cell_type": "markdown",
   "id": "f08cebb7-29a8-4b2b-98ea-bfbc0aae12b5",
   "metadata": {},
   "source": [
    "\n",
    "7. Вывести категорию фильмов, у которой самое большое кол-во часов суммарной аренды в городах (customer.address_id в этом city), и которые начинаются на букву “a”. Тоже самое сделать для городов в которых есть символ “-”.\n"
   ]
  },
  {
   "cell_type": "code",
   "execution_count": 62,
   "id": "6e31e1f8-ff23-4998-941d-ca82234e7459",
   "metadata": {},
   "outputs": [
    {
     "name": "stdout",
     "output_type": "stream",
     "text": [
      "+------+----------+---------------------+\n",
      "|name  |city      |total_rental_duration|\n",
      "+------+----------+---------------------+\n",
      "|Action|Avellaneda|46                   |\n",
      "+------+----------+---------------------+\n",
      "\n"
     ]
    }
   ],
   "source": [
    "joined_data = (\n",
    "    film_df\n",
    "    .join(inventory_df, film_df.film_id == inventory_df.film_id)\n",
    "    .join(rental_df, inventory_df.inventory_id == rental_df.inventory_id)\n",
    "    .join(customer_df, rental_df.customer_id == customer_df.customer_id)\n",
    "    .join(address_df, customer_df.address_id == address_df.address_id)\n",
    "    .join(city_df, address_df.city_id == city_df.city_id)\n",
    "    .join(country_df, city_df.country_id == country_df.country_id)\n",
    "    .join(film_category_df, film_df.film_id == film_category_df.film_id)\n",
    "    .join(category_df, film_category_df.category_id == category_df.category_id)\n",
    ")\n",
    "\n",
    "filtered_data = (\n",
    "    joined_data.filter(category_df.name.like('A%') | city_df.city.like('%-%'))\n",
    ")\n",
    "\n",
    "grouped_data = (\n",
    "    filtered_data\n",
    "    .groupBy(category_df.name, city_df.city)\n",
    "    .agg(sum(datediff(rental_df.return_date, rental_df.rental_date)).alias(\"total_rental_duration\"))\n",
    ")\n",
    "\n",
    "result_7 = (\n",
    "    grouped_data\n",
    "    .orderBy(desc(\"total_rental_duration\"))\n",
    "    .limit(1)\n",
    ")\n",
    "\n",
    "result_7.show(truncate=False)"
   ]
  }
 ],
 "metadata": {
  "kernelspec": {
   "display_name": "Python 3 (ipykernel)",
   "language": "python",
   "name": "python3"
  },
  "language_info": {
   "codemirror_mode": {
    "name": "ipython",
    "version": 3
   },
   "file_extension": ".py",
   "mimetype": "text/x-python",
   "name": "python",
   "nbconvert_exporter": "python",
   "pygments_lexer": "ipython3",
   "version": "3.10.10"
  }
 },
 "nbformat": 4,
 "nbformat_minor": 5
}
